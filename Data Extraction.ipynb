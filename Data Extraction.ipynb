{
 "cells": [
  {
   "cell_type": "code",
   "execution_count": 2,
   "id": "34c198ba",
   "metadata": {},
   "outputs": [],
   "source": [
    "import pickle\n",
    "import pandas as pd\n",
    "import numpy as np\n",
    "import matplotlib.pyplot as plt\n",
    "import seaborn as sns\n",
    "from pylab import rcParams"
   ]
  },
  {
   "cell_type": "code",
   "execution_count": 53,
   "id": "da67067c",
   "metadata": {},
   "outputs": [],
   "source": [
    "delivery_data = pickle.load(open('dataset_level2.pkl','rb'))"
   ]
  },
  {
   "cell_type": "code",
   "execution_count": 54,
   "id": "70cfef87",
   "metadata": {},
   "outputs": [
    {
     "data": {
      "text/html": [
       "<div>\n",
       "<style scoped>\n",
       "    .dataframe tbody tr th:only-of-type {\n",
       "        vertical-align: middle;\n",
       "    }\n",
       "\n",
       "    .dataframe tbody tr th {\n",
       "        vertical-align: top;\n",
       "    }\n",
       "\n",
       "    .dataframe thead th {\n",
       "        text-align: right;\n",
       "    }\n",
       "</style>\n",
       "<table border=\"1\" class=\"dataframe\">\n",
       "  <thead>\n",
       "    <tr style=\"text-align: right;\">\n",
       "      <th></th>\n",
       "      <th>match_id</th>\n",
       "      <th>innings</th>\n",
       "      <th>info_Dates</th>\n",
       "      <th>teams</th>\n",
       "      <th>batting_team</th>\n",
       "      <th>ball</th>\n",
       "      <th>batsman</th>\n",
       "      <th>non_striker</th>\n",
       "      <th>bowler</th>\n",
       "      <th>total_runs</th>\n",
       "      <th>bat_runs</th>\n",
       "      <th>extra_runs</th>\n",
       "      <th>extra_run_type</th>\n",
       "      <th>player_dismissed</th>\n",
       "      <th>wicket_type</th>\n",
       "      <th>fielder</th>\n",
       "      <th>city</th>\n",
       "      <th>venue</th>\n",
       "    </tr>\n",
       "  </thead>\n",
       "  <tbody>\n",
       "    <tr>\n",
       "      <th>0</th>\n",
       "      <td>1</td>\n",
       "      <td>1st innings</td>\n",
       "      <td>2017-04-05</td>\n",
       "      <td>[Sunrisers Hyderabad, Royal Challengers Bangal...</td>\n",
       "      <td>Sunrisers Hyderabad</td>\n",
       "      <td>0.1</td>\n",
       "      <td>DA Warner</td>\n",
       "      <td>S Dhawan</td>\n",
       "      <td>TS Mills</td>\n",
       "      <td>0</td>\n",
       "      <td>0</td>\n",
       "      <td>0</td>\n",
       "      <td>[]</td>\n",
       "      <td>0</td>\n",
       "      <td>0</td>\n",
       "      <td>0</td>\n",
       "      <td>Hyderabad</td>\n",
       "      <td>Rajiv Gandhi International Stadium, Uppal</td>\n",
       "    </tr>\n",
       "    <tr>\n",
       "      <th>1</th>\n",
       "      <td>1</td>\n",
       "      <td>1st innings</td>\n",
       "      <td>2017-04-05</td>\n",
       "      <td>[Sunrisers Hyderabad, Royal Challengers Bangal...</td>\n",
       "      <td>Sunrisers Hyderabad</td>\n",
       "      <td>0.2</td>\n",
       "      <td>DA Warner</td>\n",
       "      <td>S Dhawan</td>\n",
       "      <td>TS Mills</td>\n",
       "      <td>0</td>\n",
       "      <td>0</td>\n",
       "      <td>0</td>\n",
       "      <td>[]</td>\n",
       "      <td>0</td>\n",
       "      <td>0</td>\n",
       "      <td>0</td>\n",
       "      <td>Hyderabad</td>\n",
       "      <td>Rajiv Gandhi International Stadium, Uppal</td>\n",
       "    </tr>\n",
       "    <tr>\n",
       "      <th>2</th>\n",
       "      <td>1</td>\n",
       "      <td>1st innings</td>\n",
       "      <td>2017-04-05</td>\n",
       "      <td>[Sunrisers Hyderabad, Royal Challengers Bangal...</td>\n",
       "      <td>Sunrisers Hyderabad</td>\n",
       "      <td>0.3</td>\n",
       "      <td>DA Warner</td>\n",
       "      <td>S Dhawan</td>\n",
       "      <td>TS Mills</td>\n",
       "      <td>4</td>\n",
       "      <td>4</td>\n",
       "      <td>0</td>\n",
       "      <td>[]</td>\n",
       "      <td>0</td>\n",
       "      <td>0</td>\n",
       "      <td>0</td>\n",
       "      <td>Hyderabad</td>\n",
       "      <td>Rajiv Gandhi International Stadium, Uppal</td>\n",
       "    </tr>\n",
       "    <tr>\n",
       "      <th>3</th>\n",
       "      <td>1</td>\n",
       "      <td>1st innings</td>\n",
       "      <td>2017-04-05</td>\n",
       "      <td>[Sunrisers Hyderabad, Royal Challengers Bangal...</td>\n",
       "      <td>Sunrisers Hyderabad</td>\n",
       "      <td>0.4</td>\n",
       "      <td>DA Warner</td>\n",
       "      <td>S Dhawan</td>\n",
       "      <td>TS Mills</td>\n",
       "      <td>0</td>\n",
       "      <td>0</td>\n",
       "      <td>0</td>\n",
       "      <td>[]</td>\n",
       "      <td>0</td>\n",
       "      <td>0</td>\n",
       "      <td>0</td>\n",
       "      <td>Hyderabad</td>\n",
       "      <td>Rajiv Gandhi International Stadium, Uppal</td>\n",
       "    </tr>\n",
       "    <tr>\n",
       "      <th>4</th>\n",
       "      <td>1</td>\n",
       "      <td>1st innings</td>\n",
       "      <td>2017-04-05</td>\n",
       "      <td>[Sunrisers Hyderabad, Royal Challengers Bangal...</td>\n",
       "      <td>Sunrisers Hyderabad</td>\n",
       "      <td>0.5</td>\n",
       "      <td>DA Warner</td>\n",
       "      <td>S Dhawan</td>\n",
       "      <td>TS Mills</td>\n",
       "      <td>2</td>\n",
       "      <td>0</td>\n",
       "      <td>2</td>\n",
       "      <td>wides</td>\n",
       "      <td>0</td>\n",
       "      <td>0</td>\n",
       "      <td>0</td>\n",
       "      <td>Hyderabad</td>\n",
       "      <td>Rajiv Gandhi International Stadium, Uppal</td>\n",
       "    </tr>\n",
       "  </tbody>\n",
       "</table>\n",
       "</div>"
      ],
      "text/plain": [
       "   match_id      innings  info_Dates  \\\n",
       "0         1  1st innings  2017-04-05   \n",
       "1         1  1st innings  2017-04-05   \n",
       "2         1  1st innings  2017-04-05   \n",
       "3         1  1st innings  2017-04-05   \n",
       "4         1  1st innings  2017-04-05   \n",
       "\n",
       "                                               teams         batting_team  \\\n",
       "0  [Sunrisers Hyderabad, Royal Challengers Bangal...  Sunrisers Hyderabad   \n",
       "1  [Sunrisers Hyderabad, Royal Challengers Bangal...  Sunrisers Hyderabad   \n",
       "2  [Sunrisers Hyderabad, Royal Challengers Bangal...  Sunrisers Hyderabad   \n",
       "3  [Sunrisers Hyderabad, Royal Challengers Bangal...  Sunrisers Hyderabad   \n",
       "4  [Sunrisers Hyderabad, Royal Challengers Bangal...  Sunrisers Hyderabad   \n",
       "\n",
       "   ball    batsman non_striker    bowler  total_runs  bat_runs  extra_runs  \\\n",
       "0   0.1  DA Warner    S Dhawan  TS Mills           0         0           0   \n",
       "1   0.2  DA Warner    S Dhawan  TS Mills           0         0           0   \n",
       "2   0.3  DA Warner    S Dhawan  TS Mills           4         4           0   \n",
       "3   0.4  DA Warner    S Dhawan  TS Mills           0         0           0   \n",
       "4   0.5  DA Warner    S Dhawan  TS Mills           2         0           2   \n",
       "\n",
       "  extra_run_type player_dismissed wicket_type fielder       city  \\\n",
       "0             []                0           0       0  Hyderabad   \n",
       "1             []                0           0       0  Hyderabad   \n",
       "2             []                0           0       0  Hyderabad   \n",
       "3             []                0           0       0  Hyderabad   \n",
       "4          wides                0           0       0  Hyderabad   \n",
       "\n",
       "                                       venue  \n",
       "0  Rajiv Gandhi International Stadium, Uppal  \n",
       "1  Rajiv Gandhi International Stadium, Uppal  \n",
       "2  Rajiv Gandhi International Stadium, Uppal  \n",
       "3  Rajiv Gandhi International Stadium, Uppal  \n",
       "4  Rajiv Gandhi International Stadium, Uppal  "
      ]
     },
     "execution_count": 54,
     "metadata": {},
     "output_type": "execute_result"
    }
   ],
   "source": [
    "delivery_data.head()"
   ]
  },
  {
   "cell_type": "markdown",
   "id": "233f1273",
   "metadata": {},
   "source": [
    "intruducing bowling team columns."
   ]
  },
  {
   "cell_type": "code",
   "execution_count": 55,
   "id": "bc6f7b14",
   "metadata": {},
   "outputs": [],
   "source": [
    "def get_bowling_team(row):\n",
    "    teams = set(row['teams'])\n",
    "    teams.remove(row['batting_team'])\n",
    "    return teams.pop()\n",
    "\n",
    "delivery_data['bowling_team'] = delivery_data.apply(get_bowling_team, axis=1)"
   ]
  },
  {
   "cell_type": "markdown",
   "id": "fe67d8c6",
   "metadata": {},
   "source": [
    "removing teams columns"
   ]
  },
  {
   "cell_type": "code",
   "execution_count": 56,
   "id": "38be4506",
   "metadata": {},
   "outputs": [],
   "source": [
    "delivery_data.drop(columns=['teams'],inplace=True)"
   ]
  },
  {
   "cell_type": "markdown",
   "id": "471b7db0",
   "metadata": {},
   "source": [
    "exporting delivery data to csv formate. "
   ]
  },
  {
   "cell_type": "code",
   "execution_count": 75,
   "id": "4735d5cb",
   "metadata": {},
   "outputs": [],
   "source": [
    "delivery_data.to_csv('b2b.csv')"
   ]
  },
  {
   "cell_type": "markdown",
   "id": "3a208878",
   "metadata": {},
   "source": [
    "#### DATA Informations:\n",
    "We have total 225954 row and 18 columns for this dataset\n",
    "   ##### Attribute Description\n",
    "1. Match_id:  Distinct ID assigned to a Match (referred from Matches Table)\n",
    "2. Innings : 1 – First Innings, 2 – Second Innings and superover\n",
    "3. info_Dates : date of match has been played\n",
    "4. batting_team   : Team Batting currently\n",
    "5. bowling_team: Team Bowling currently\n",
    "6. Ball: Current Ball and over.\n",
    "7. Batsman: Name of the Batsman on Strike\n",
    "8. Non-Striker: Name of the Batsman at the non-striker end\n",
    "9. Bowler: Name of the Bowler for the Over in progress\n",
    "10. bat_runs: Runs scored by the Batsman\n",
    "11. Extra_Runs: extra run which give by bowling team\n",
    "12. Total_Runs: Extra Runs + Runs scored by the Batsman\n",
    "13. Player_Dismissed: Name of the dismissed player (if any)\n",
    "14. wicket_type: Reason for the dismissal of the player (if any)\n",
    "15. Fielder:name of the Fielder responsible for dismissal (if any)\n",
    "16. city: city where matche has been played\n",
    "17. venue: ground name where match has been played\n",
    "\n",
    "\n",
    "After we extract the dataset we pwefomed the data cleaning task in excel file where we replace the [] with 0 for wicket_type, and removed the [', and '] from filder text value."
   ]
  },
  {
   "cell_type": "code",
   "execution_count": 3,
   "id": "3936e7cd",
   "metadata": {},
   "outputs": [
    {
     "data": {
      "text/html": [
       "<div>\n",
       "<style scoped>\n",
       "    .dataframe tbody tr th:only-of-type {\n",
       "        vertical-align: middle;\n",
       "    }\n",
       "\n",
       "    .dataframe tbody tr th {\n",
       "        vertical-align: top;\n",
       "    }\n",
       "\n",
       "    .dataframe thead th {\n",
       "        text-align: right;\n",
       "    }\n",
       "</style>\n",
       "<table border=\"1\" class=\"dataframe\">\n",
       "  <thead>\n",
       "    <tr style=\"text-align: right;\">\n",
       "      <th></th>\n",
       "      <th>match_id</th>\n",
       "      <th>innings</th>\n",
       "      <th>info_Dates</th>\n",
       "      <th>batting_team</th>\n",
       "      <th>ball</th>\n",
       "      <th>batsman</th>\n",
       "      <th>non_striker</th>\n",
       "      <th>bowler</th>\n",
       "      <th>total_runs</th>\n",
       "      <th>bat_runs</th>\n",
       "      <th>extra_runs</th>\n",
       "      <th>extra_run_type</th>\n",
       "      <th>player_dismissed</th>\n",
       "      <th>wicket_type</th>\n",
       "      <th>fielder</th>\n",
       "      <th>city</th>\n",
       "      <th>venue</th>\n",
       "      <th>bowling_team</th>\n",
       "    </tr>\n",
       "  </thead>\n",
       "  <tbody>\n",
       "    <tr>\n",
       "      <th>0</th>\n",
       "      <td>1</td>\n",
       "      <td>1st innings</td>\n",
       "      <td>05/04/2017</td>\n",
       "      <td>Sunrisers Hyderabad</td>\n",
       "      <td>0.1</td>\n",
       "      <td>DA Warner</td>\n",
       "      <td>S Dhawan</td>\n",
       "      <td>TS Mills</td>\n",
       "      <td>0</td>\n",
       "      <td>0</td>\n",
       "      <td>0</td>\n",
       "      <td>0</td>\n",
       "      <td>0</td>\n",
       "      <td>0</td>\n",
       "      <td>0</td>\n",
       "      <td>Hyderabad</td>\n",
       "      <td>Rajiv Gandhi International Stadium, Uppal</td>\n",
       "      <td>Royal Challengers Bangalore</td>\n",
       "    </tr>\n",
       "    <tr>\n",
       "      <th>1</th>\n",
       "      <td>1</td>\n",
       "      <td>1st innings</td>\n",
       "      <td>05/04/2017</td>\n",
       "      <td>Sunrisers Hyderabad</td>\n",
       "      <td>0.2</td>\n",
       "      <td>DA Warner</td>\n",
       "      <td>S Dhawan</td>\n",
       "      <td>TS Mills</td>\n",
       "      <td>0</td>\n",
       "      <td>0</td>\n",
       "      <td>0</td>\n",
       "      <td>0</td>\n",
       "      <td>0</td>\n",
       "      <td>0</td>\n",
       "      <td>0</td>\n",
       "      <td>Hyderabad</td>\n",
       "      <td>Rajiv Gandhi International Stadium, Uppal</td>\n",
       "      <td>Royal Challengers Bangalore</td>\n",
       "    </tr>\n",
       "    <tr>\n",
       "      <th>2</th>\n",
       "      <td>1</td>\n",
       "      <td>1st innings</td>\n",
       "      <td>05/04/2017</td>\n",
       "      <td>Sunrisers Hyderabad</td>\n",
       "      <td>0.3</td>\n",
       "      <td>DA Warner</td>\n",
       "      <td>S Dhawan</td>\n",
       "      <td>TS Mills</td>\n",
       "      <td>4</td>\n",
       "      <td>4</td>\n",
       "      <td>0</td>\n",
       "      <td>0</td>\n",
       "      <td>0</td>\n",
       "      <td>0</td>\n",
       "      <td>0</td>\n",
       "      <td>Hyderabad</td>\n",
       "      <td>Rajiv Gandhi International Stadium, Uppal</td>\n",
       "      <td>Royal Challengers Bangalore</td>\n",
       "    </tr>\n",
       "    <tr>\n",
       "      <th>3</th>\n",
       "      <td>1</td>\n",
       "      <td>1st innings</td>\n",
       "      <td>05/04/2017</td>\n",
       "      <td>Sunrisers Hyderabad</td>\n",
       "      <td>0.4</td>\n",
       "      <td>DA Warner</td>\n",
       "      <td>S Dhawan</td>\n",
       "      <td>TS Mills</td>\n",
       "      <td>0</td>\n",
       "      <td>0</td>\n",
       "      <td>0</td>\n",
       "      <td>0</td>\n",
       "      <td>0</td>\n",
       "      <td>0</td>\n",
       "      <td>0</td>\n",
       "      <td>Hyderabad</td>\n",
       "      <td>Rajiv Gandhi International Stadium, Uppal</td>\n",
       "      <td>Royal Challengers Bangalore</td>\n",
       "    </tr>\n",
       "    <tr>\n",
       "      <th>4</th>\n",
       "      <td>1</td>\n",
       "      <td>1st innings</td>\n",
       "      <td>05/04/2017</td>\n",
       "      <td>Sunrisers Hyderabad</td>\n",
       "      <td>0.5</td>\n",
       "      <td>DA Warner</td>\n",
       "      <td>S Dhawan</td>\n",
       "      <td>TS Mills</td>\n",
       "      <td>2</td>\n",
       "      <td>0</td>\n",
       "      <td>2</td>\n",
       "      <td>wides</td>\n",
       "      <td>0</td>\n",
       "      <td>0</td>\n",
       "      <td>0</td>\n",
       "      <td>Hyderabad</td>\n",
       "      <td>Rajiv Gandhi International Stadium, Uppal</td>\n",
       "      <td>Royal Challengers Bangalore</td>\n",
       "    </tr>\n",
       "    <tr>\n",
       "      <th>...</th>\n",
       "      <td>...</td>\n",
       "      <td>...</td>\n",
       "      <td>...</td>\n",
       "      <td>...</td>\n",
       "      <td>...</td>\n",
       "      <td>...</td>\n",
       "      <td>...</td>\n",
       "      <td>...</td>\n",
       "      <td>...</td>\n",
       "      <td>...</td>\n",
       "      <td>...</td>\n",
       "      <td>...</td>\n",
       "      <td>...</td>\n",
       "      <td>...</td>\n",
       "      <td>...</td>\n",
       "      <td>...</td>\n",
       "      <td>...</td>\n",
       "      <td>...</td>\n",
       "    </tr>\n",
       "    <tr>\n",
       "      <th>225949</th>\n",
       "      <td>950</td>\n",
       "      <td>2nd innings</td>\n",
       "      <td>29/05/2016</td>\n",
       "      <td>Royal Challengers Bangalore</td>\n",
       "      <td>19.2</td>\n",
       "      <td>Sachin Baby</td>\n",
       "      <td>CJ Jordan</td>\n",
       "      <td>B Kumar</td>\n",
       "      <td>2</td>\n",
       "      <td>2</td>\n",
       "      <td>0</td>\n",
       "      <td>0</td>\n",
       "      <td>0</td>\n",
       "      <td>0</td>\n",
       "      <td>0</td>\n",
       "      <td>Bangalore</td>\n",
       "      <td>M Chinnaswamy Stadium</td>\n",
       "      <td>Sunrisers Hyderabad</td>\n",
       "    </tr>\n",
       "    <tr>\n",
       "      <th>225950</th>\n",
       "      <td>950</td>\n",
       "      <td>2nd innings</td>\n",
       "      <td>29/05/2016</td>\n",
       "      <td>Royal Challengers Bangalore</td>\n",
       "      <td>19.3</td>\n",
       "      <td>Sachin Baby</td>\n",
       "      <td>CJ Jordan</td>\n",
       "      <td>B Kumar</td>\n",
       "      <td>0</td>\n",
       "      <td>0</td>\n",
       "      <td>0</td>\n",
       "      <td>0</td>\n",
       "      <td>CJ Jordan</td>\n",
       "      <td>run out</td>\n",
       "      <td>NV Ojha</td>\n",
       "      <td>Bangalore</td>\n",
       "      <td>M Chinnaswamy Stadium</td>\n",
       "      <td>Sunrisers Hyderabad</td>\n",
       "    </tr>\n",
       "    <tr>\n",
       "      <th>225951</th>\n",
       "      <td>950</td>\n",
       "      <td>2nd innings</td>\n",
       "      <td>29/05/2016</td>\n",
       "      <td>Royal Challengers Bangalore</td>\n",
       "      <td>19.4</td>\n",
       "      <td>Iqbal Abdulla</td>\n",
       "      <td>Sachin Baby</td>\n",
       "      <td>B Kumar</td>\n",
       "      <td>1</td>\n",
       "      <td>0</td>\n",
       "      <td>1</td>\n",
       "      <td>legbyes</td>\n",
       "      <td>0</td>\n",
       "      <td>0</td>\n",
       "      <td>0</td>\n",
       "      <td>Bangalore</td>\n",
       "      <td>M Chinnaswamy Stadium</td>\n",
       "      <td>Sunrisers Hyderabad</td>\n",
       "    </tr>\n",
       "    <tr>\n",
       "      <th>225952</th>\n",
       "      <td>950</td>\n",
       "      <td>2nd innings</td>\n",
       "      <td>29/05/2016</td>\n",
       "      <td>Royal Challengers Bangalore</td>\n",
       "      <td>19.5</td>\n",
       "      <td>Sachin Baby</td>\n",
       "      <td>Iqbal Abdulla</td>\n",
       "      <td>B Kumar</td>\n",
       "      <td>1</td>\n",
       "      <td>1</td>\n",
       "      <td>0</td>\n",
       "      <td>0</td>\n",
       "      <td>0</td>\n",
       "      <td>0</td>\n",
       "      <td>0</td>\n",
       "      <td>Bangalore</td>\n",
       "      <td>M Chinnaswamy Stadium</td>\n",
       "      <td>Sunrisers Hyderabad</td>\n",
       "    </tr>\n",
       "    <tr>\n",
       "      <th>225953</th>\n",
       "      <td>950</td>\n",
       "      <td>2nd innings</td>\n",
       "      <td>29/05/2016</td>\n",
       "      <td>Royal Challengers Bangalore</td>\n",
       "      <td>19.6</td>\n",
       "      <td>Iqbal Abdulla</td>\n",
       "      <td>Sachin Baby</td>\n",
       "      <td>B Kumar</td>\n",
       "      <td>4</td>\n",
       "      <td>4</td>\n",
       "      <td>0</td>\n",
       "      <td>0</td>\n",
       "      <td>0</td>\n",
       "      <td>0</td>\n",
       "      <td>0</td>\n",
       "      <td>Bangalore</td>\n",
       "      <td>M Chinnaswamy Stadium</td>\n",
       "      <td>Sunrisers Hyderabad</td>\n",
       "    </tr>\n",
       "  </tbody>\n",
       "</table>\n",
       "<p>225954 rows × 18 columns</p>\n",
       "</div>"
      ],
      "text/plain": [
       "        match_id      innings  info_Dates                 batting_team  ball  \\\n",
       "0              1  1st innings  05/04/2017          Sunrisers Hyderabad   0.1   \n",
       "1              1  1st innings  05/04/2017          Sunrisers Hyderabad   0.2   \n",
       "2              1  1st innings  05/04/2017          Sunrisers Hyderabad   0.3   \n",
       "3              1  1st innings  05/04/2017          Sunrisers Hyderabad   0.4   \n",
       "4              1  1st innings  05/04/2017          Sunrisers Hyderabad   0.5   \n",
       "...          ...          ...         ...                          ...   ...   \n",
       "225949       950  2nd innings  29/05/2016  Royal Challengers Bangalore  19.2   \n",
       "225950       950  2nd innings  29/05/2016  Royal Challengers Bangalore  19.3   \n",
       "225951       950  2nd innings  29/05/2016  Royal Challengers Bangalore  19.4   \n",
       "225952       950  2nd innings  29/05/2016  Royal Challengers Bangalore  19.5   \n",
       "225953       950  2nd innings  29/05/2016  Royal Challengers Bangalore  19.6   \n",
       "\n",
       "              batsman    non_striker    bowler  total_runs  bat_runs  \\\n",
       "0           DA Warner       S Dhawan  TS Mills           0         0   \n",
       "1           DA Warner       S Dhawan  TS Mills           0         0   \n",
       "2           DA Warner       S Dhawan  TS Mills           4         4   \n",
       "3           DA Warner       S Dhawan  TS Mills           0         0   \n",
       "4           DA Warner       S Dhawan  TS Mills           2         0   \n",
       "...               ...            ...       ...         ...       ...   \n",
       "225949    Sachin Baby      CJ Jordan   B Kumar           2         2   \n",
       "225950    Sachin Baby      CJ Jordan   B Kumar           0         0   \n",
       "225951  Iqbal Abdulla    Sachin Baby   B Kumar           1         0   \n",
       "225952    Sachin Baby  Iqbal Abdulla   B Kumar           1         1   \n",
       "225953  Iqbal Abdulla    Sachin Baby   B Kumar           4         4   \n",
       "\n",
       "        extra_runs extra_run_type player_dismissed wicket_type  fielder  \\\n",
       "0                0              0                0           0        0   \n",
       "1                0              0                0           0        0   \n",
       "2                0              0                0           0        0   \n",
       "3                0              0                0           0        0   \n",
       "4                2          wides                0           0        0   \n",
       "...            ...            ...              ...         ...      ...   \n",
       "225949           0              0                0           0        0   \n",
       "225950           0              0        CJ Jordan     run out  NV Ojha   \n",
       "225951           1        legbyes                0           0        0   \n",
       "225952           0              0                0           0        0   \n",
       "225953           0              0                0           0        0   \n",
       "\n",
       "             city                                      venue  \\\n",
       "0       Hyderabad  Rajiv Gandhi International Stadium, Uppal   \n",
       "1       Hyderabad  Rajiv Gandhi International Stadium, Uppal   \n",
       "2       Hyderabad  Rajiv Gandhi International Stadium, Uppal   \n",
       "3       Hyderabad  Rajiv Gandhi International Stadium, Uppal   \n",
       "4       Hyderabad  Rajiv Gandhi International Stadium, Uppal   \n",
       "...           ...                                        ...   \n",
       "225949  Bangalore                      M Chinnaswamy Stadium   \n",
       "225950  Bangalore                      M Chinnaswamy Stadium   \n",
       "225951  Bangalore                      M Chinnaswamy Stadium   \n",
       "225952  Bangalore                      M Chinnaswamy Stadium   \n",
       "225953  Bangalore                      M Chinnaswamy Stadium   \n",
       "\n",
       "                       bowling_team  \n",
       "0       Royal Challengers Bangalore  \n",
       "1       Royal Challengers Bangalore  \n",
       "2       Royal Challengers Bangalore  \n",
       "3       Royal Challengers Bangalore  \n",
       "4       Royal Challengers Bangalore  \n",
       "...                             ...  \n",
       "225949          Sunrisers Hyderabad  \n",
       "225950          Sunrisers Hyderabad  \n",
       "225951          Sunrisers Hyderabad  \n",
       "225952          Sunrisers Hyderabad  \n",
       "225953          Sunrisers Hyderabad  \n",
       "\n",
       "[225954 rows x 18 columns]"
      ]
     },
     "execution_count": 3,
     "metadata": {},
     "output_type": "execute_result"
    }
   ],
   "source": [
    "ipl_data = pd.read_csv(\"b2b.csv\")\n",
    "ipl_data"
   ]
  },
  {
   "cell_type": "code",
   "execution_count": 79,
   "id": "b69abbce",
   "metadata": {},
   "outputs": [
    {
     "name": "stdout",
     "output_type": "stream",
     "text": [
      "<class 'pandas.core.frame.DataFrame'>\n",
      "RangeIndex: 225954 entries, 0 to 225953\n",
      "Data columns (total 18 columns):\n",
      " #   Column            Non-Null Count   Dtype  \n",
      "---  ------            --------------   -----  \n",
      " 0   match_id          225954 non-null  int64  \n",
      " 1   innings           225954 non-null  object \n",
      " 2   info_Dates        225954 non-null  object \n",
      " 3   batting_team      225954 non-null  object \n",
      " 4   ball              225954 non-null  float64\n",
      " 5   batsman           225954 non-null  object \n",
      " 6   non_striker       225954 non-null  object \n",
      " 7   bowler            225954 non-null  object \n",
      " 8   total_runs        225954 non-null  int64  \n",
      " 9   bat_runs          225954 non-null  int64  \n",
      " 10  extra_runs        225954 non-null  int64  \n",
      " 11  extra_run_type    225954 non-null  object \n",
      " 12  player_dismissed  225954 non-null  object \n",
      " 13  wicket_type       225954 non-null  object \n",
      " 14  fielder           225954 non-null  object \n",
      " 15  city              213557 non-null  object \n",
      " 16  venue             225954 non-null  object \n",
      " 17  bowling_team      225954 non-null  object \n",
      "dtypes: float64(1), int64(4), object(13)\n",
      "memory usage: 31.0+ MB\n"
     ]
    }
   ],
   "source": [
    "ipl_data.info()"
   ]
  },
  {
   "cell_type": "markdown",
   "id": "f804035a",
   "metadata": {},
   "source": [
    "## DATA Cleaing, EDA & Feature Engineering."
   ]
  },
  {
   "cell_type": "code",
   "execution_count": 4,
   "id": "5e6ac899",
   "metadata": {},
   "outputs": [
    {
     "data": {
      "text/plain": [
       "(225954, 18)"
      ]
     },
     "execution_count": 4,
     "metadata": {},
     "output_type": "execute_result"
    }
   ],
   "source": [
    "ipl_data.shape"
   ]
  },
  {
   "cell_type": "markdown",
   "id": "a75a8ccb",
   "metadata": {},
   "source": [
    "We have total 225954 row and 18 columns for this dataset)"
   ]
  },
  {
   "cell_type": "markdown",
   "id": "9185e79e",
   "metadata": {},
   "source": [
    "Removing super over data from the dataset as we not requierd "
   ]
  },
  {
   "cell_type": "code",
   "execution_count": 5,
   "id": "363dc7b9",
   "metadata": {},
   "outputs": [
    {
     "data": {
      "text/plain": [
       "array(['1st innings', '2nd innings', 'Mumbai Indians Super Over',\n",
       "       'Gujarat Lions Super Over', 'Delhi Capitals Super Over',\n",
       "       'Kolkata Knight Riders Super Over',\n",
       "       'Sunrisers Hyderabad Super Over', 'Kings XI Punjab Super Over',\n",
       "       'Royal Challengers Bangalore Super Over',\n",
       "       'Rajasthan Royals Super Over', 'Chennai Super Kings Super Over',\n",
       "       'Delhi Daredevils Super Over'], dtype=object)"
      ]
     },
     "execution_count": 5,
     "metadata": {},
     "output_type": "execute_result"
    }
   ],
   "source": [
    "ipl_data.innings.unique()"
   ]
  },
  {
   "cell_type": "code",
   "execution_count": 6,
   "id": "5addf6e6",
   "metadata": {},
   "outputs": [
    {
     "data": {
      "text/plain": [
       "array(['1st innings', '2nd innings'], dtype=object)"
      ]
     },
     "execution_count": 6,
     "metadata": {},
     "output_type": "execute_result"
    }
   ],
   "source": [
    "ipl_data_1 = ipl_data[(ipl_data['innings'] == '1st innings') | (ipl_data['innings'] == '2nd innings')]\n",
    "ipl_data_1.innings.unique()"
   ]
  },
  {
   "cell_type": "markdown",
   "id": "1dfee012",
   "metadata": {},
   "source": [
    "replacing 0 with NAN "
   ]
  },
  {
   "cell_type": "code",
   "execution_count": 7,
   "id": "85244ac8",
   "metadata": {},
   "outputs": [
    {
     "name": "stderr",
     "output_type": "stream",
     "text": [
      "C:\\Users\\donda\\AppData\\Local\\Temp\\ipykernel_19276\\411381082.py:2: SettingWithCopyWarning: \n",
      "A value is trying to be set on a copy of a slice from a DataFrame.\n",
      "Try using .loc[row_indexer,col_indexer] = value instead\n",
      "\n",
      "See the caveats in the documentation: https://pandas.pydata.org/pandas-docs/stable/user_guide/indexing.html#returning-a-view-versus-a-copy\n",
      "  ipl_data_1[cols] = ipl_data_1[cols].replace({'0':np.nan, 0:np.nan})\n"
     ]
    }
   ],
   "source": [
    "cols = [\"extra_run_type\",\"player_dismissed\",\"wicket_type\",\"fielder\"]\n",
    "ipl_data_1[cols] = ipl_data_1[cols].replace({'0':np.nan, 0:np.nan})"
   ]
  },
  {
   "cell_type": "markdown",
   "id": "f8ce935b",
   "metadata": {},
   "source": [
    "## create new feature called is_wicket"
   ]
  },
  {
   "cell_type": "code",
   "execution_count": 8,
   "id": "d7671209",
   "metadata": {},
   "outputs": [
    {
     "name": "stderr",
     "output_type": "stream",
     "text": [
      "C:\\Users\\donda\\AppData\\Local\\Temp\\ipykernel_19276\\2755784352.py:1: SettingWithCopyWarning: \n",
      "A value is trying to be set on a copy of a slice from a DataFrame.\n",
      "Try using .loc[row_indexer,col_indexer] = value instead\n",
      "\n",
      "See the caveats in the documentation: https://pandas.pydata.org/pandas-docs/stable/user_guide/indexing.html#returning-a-view-versus-a-copy\n",
      "  ipl_data_1['is_wicket'] = ipl_data_1['player_dismissed'].notna().astype(int)\n"
     ]
    }
   ],
   "source": [
    "ipl_data_1['is_wicket'] = ipl_data_1['player_dismissed'].notna().astype(int)\n"
   ]
  },
  {
   "cell_type": "code",
   "execution_count": 85,
   "id": "00002454",
   "metadata": {},
   "outputs": [
    {
     "data": {
      "text/html": [
       "<div>\n",
       "<style scoped>\n",
       "    .dataframe tbody tr th:only-of-type {\n",
       "        vertical-align: middle;\n",
       "    }\n",
       "\n",
       "    .dataframe tbody tr th {\n",
       "        vertical-align: top;\n",
       "    }\n",
       "\n",
       "    .dataframe thead th {\n",
       "        text-align: right;\n",
       "    }\n",
       "</style>\n",
       "<table border=\"1\" class=\"dataframe\">\n",
       "  <thead>\n",
       "    <tr style=\"text-align: right;\">\n",
       "      <th></th>\n",
       "      <th>match_id</th>\n",
       "      <th>innings</th>\n",
       "      <th>info_Dates</th>\n",
       "      <th>batting_team</th>\n",
       "      <th>ball</th>\n",
       "      <th>batsman</th>\n",
       "      <th>non_striker</th>\n",
       "      <th>bowler</th>\n",
       "      <th>total_runs</th>\n",
       "      <th>bat_runs</th>\n",
       "      <th>extra_runs</th>\n",
       "      <th>extra_run_type</th>\n",
       "      <th>player_dismissed</th>\n",
       "      <th>wicket_type</th>\n",
       "      <th>fielder</th>\n",
       "      <th>city</th>\n",
       "      <th>venue</th>\n",
       "      <th>bowling_team</th>\n",
       "      <th>is_wicket</th>\n",
       "    </tr>\n",
       "  </thead>\n",
       "  <tbody>\n",
       "    <tr>\n",
       "      <th>0</th>\n",
       "      <td>1</td>\n",
       "      <td>1st innings</td>\n",
       "      <td>05/04/2017</td>\n",
       "      <td>Sunrisers Hyderabad</td>\n",
       "      <td>0.1</td>\n",
       "      <td>DA Warner</td>\n",
       "      <td>S Dhawan</td>\n",
       "      <td>TS Mills</td>\n",
       "      <td>0</td>\n",
       "      <td>0</td>\n",
       "      <td>0</td>\n",
       "      <td>NaN</td>\n",
       "      <td>NaN</td>\n",
       "      <td>NaN</td>\n",
       "      <td>NaN</td>\n",
       "      <td>Hyderabad</td>\n",
       "      <td>Rajiv Gandhi International Stadium, Uppal</td>\n",
       "      <td>Royal Challengers Bangalore</td>\n",
       "      <td>0</td>\n",
       "    </tr>\n",
       "    <tr>\n",
       "      <th>1</th>\n",
       "      <td>1</td>\n",
       "      <td>1st innings</td>\n",
       "      <td>05/04/2017</td>\n",
       "      <td>Sunrisers Hyderabad</td>\n",
       "      <td>0.2</td>\n",
       "      <td>DA Warner</td>\n",
       "      <td>S Dhawan</td>\n",
       "      <td>TS Mills</td>\n",
       "      <td>0</td>\n",
       "      <td>0</td>\n",
       "      <td>0</td>\n",
       "      <td>NaN</td>\n",
       "      <td>NaN</td>\n",
       "      <td>NaN</td>\n",
       "      <td>NaN</td>\n",
       "      <td>Hyderabad</td>\n",
       "      <td>Rajiv Gandhi International Stadium, Uppal</td>\n",
       "      <td>Royal Challengers Bangalore</td>\n",
       "      <td>0</td>\n",
       "    </tr>\n",
       "    <tr>\n",
       "      <th>2</th>\n",
       "      <td>1</td>\n",
       "      <td>1st innings</td>\n",
       "      <td>05/04/2017</td>\n",
       "      <td>Sunrisers Hyderabad</td>\n",
       "      <td>0.3</td>\n",
       "      <td>DA Warner</td>\n",
       "      <td>S Dhawan</td>\n",
       "      <td>TS Mills</td>\n",
       "      <td>4</td>\n",
       "      <td>4</td>\n",
       "      <td>0</td>\n",
       "      <td>NaN</td>\n",
       "      <td>NaN</td>\n",
       "      <td>NaN</td>\n",
       "      <td>NaN</td>\n",
       "      <td>Hyderabad</td>\n",
       "      <td>Rajiv Gandhi International Stadium, Uppal</td>\n",
       "      <td>Royal Challengers Bangalore</td>\n",
       "      <td>0</td>\n",
       "    </tr>\n",
       "    <tr>\n",
       "      <th>3</th>\n",
       "      <td>1</td>\n",
       "      <td>1st innings</td>\n",
       "      <td>05/04/2017</td>\n",
       "      <td>Sunrisers Hyderabad</td>\n",
       "      <td>0.4</td>\n",
       "      <td>DA Warner</td>\n",
       "      <td>S Dhawan</td>\n",
       "      <td>TS Mills</td>\n",
       "      <td>0</td>\n",
       "      <td>0</td>\n",
       "      <td>0</td>\n",
       "      <td>NaN</td>\n",
       "      <td>NaN</td>\n",
       "      <td>NaN</td>\n",
       "      <td>NaN</td>\n",
       "      <td>Hyderabad</td>\n",
       "      <td>Rajiv Gandhi International Stadium, Uppal</td>\n",
       "      <td>Royal Challengers Bangalore</td>\n",
       "      <td>0</td>\n",
       "    </tr>\n",
       "    <tr>\n",
       "      <th>4</th>\n",
       "      <td>1</td>\n",
       "      <td>1st innings</td>\n",
       "      <td>05/04/2017</td>\n",
       "      <td>Sunrisers Hyderabad</td>\n",
       "      <td>0.5</td>\n",
       "      <td>DA Warner</td>\n",
       "      <td>S Dhawan</td>\n",
       "      <td>TS Mills</td>\n",
       "      <td>2</td>\n",
       "      <td>0</td>\n",
       "      <td>2</td>\n",
       "      <td>wides</td>\n",
       "      <td>NaN</td>\n",
       "      <td>NaN</td>\n",
       "      <td>NaN</td>\n",
       "      <td>Hyderabad</td>\n",
       "      <td>Rajiv Gandhi International Stadium, Uppal</td>\n",
       "      <td>Royal Challengers Bangalore</td>\n",
       "      <td>0</td>\n",
       "    </tr>\n",
       "  </tbody>\n",
       "</table>\n",
       "</div>"
      ],
      "text/plain": [
       "   match_id      innings  info_Dates         batting_team  ball    batsman  \\\n",
       "0         1  1st innings  05/04/2017  Sunrisers Hyderabad   0.1  DA Warner   \n",
       "1         1  1st innings  05/04/2017  Sunrisers Hyderabad   0.2  DA Warner   \n",
       "2         1  1st innings  05/04/2017  Sunrisers Hyderabad   0.3  DA Warner   \n",
       "3         1  1st innings  05/04/2017  Sunrisers Hyderabad   0.4  DA Warner   \n",
       "4         1  1st innings  05/04/2017  Sunrisers Hyderabad   0.5  DA Warner   \n",
       "\n",
       "  non_striker    bowler  total_runs  bat_runs  extra_runs extra_run_type  \\\n",
       "0    S Dhawan  TS Mills           0         0           0            NaN   \n",
       "1    S Dhawan  TS Mills           0         0           0            NaN   \n",
       "2    S Dhawan  TS Mills           4         4           0            NaN   \n",
       "3    S Dhawan  TS Mills           0         0           0            NaN   \n",
       "4    S Dhawan  TS Mills           2         0           2          wides   \n",
       "\n",
       "  player_dismissed wicket_type fielder       city  \\\n",
       "0              NaN         NaN     NaN  Hyderabad   \n",
       "1              NaN         NaN     NaN  Hyderabad   \n",
       "2              NaN         NaN     NaN  Hyderabad   \n",
       "3              NaN         NaN     NaN  Hyderabad   \n",
       "4              NaN         NaN     NaN  Hyderabad   \n",
       "\n",
       "                                       venue                 bowling_team  \\\n",
       "0  Rajiv Gandhi International Stadium, Uppal  Royal Challengers Bangalore   \n",
       "1  Rajiv Gandhi International Stadium, Uppal  Royal Challengers Bangalore   \n",
       "2  Rajiv Gandhi International Stadium, Uppal  Royal Challengers Bangalore   \n",
       "3  Rajiv Gandhi International Stadium, Uppal  Royal Challengers Bangalore   \n",
       "4  Rajiv Gandhi International Stadium, Uppal  Royal Challengers Bangalore   \n",
       "\n",
       "   is_wicket  \n",
       "0          0  \n",
       "1          0  \n",
       "2          0  \n",
       "3          0  \n",
       "4          0  "
      ]
     },
     "execution_count": 85,
     "metadata": {},
     "output_type": "execute_result"
    }
   ],
   "source": [
    "ipl_data_1.head()"
   ]
  },
  {
   "cell_type": "markdown",
   "id": "0f47e29b",
   "metadata": {},
   "source": [
    "#### Exploring Inning Feature"
   ]
  },
  {
   "cell_type": "code",
   "execution_count": 86,
   "id": "10a23381",
   "metadata": {},
   "outputs": [
    {
     "name": "stderr",
     "output_type": "stream",
     "text": [
      "C:\\ProgramData\\Anaconda3\\lib\\site-packages\\seaborn\\_decorators.py:36: FutureWarning:\n",
      "\n",
      "Pass the following variable as a keyword arg: x. From version 0.12, the only valid positional argument will be `data`, and passing other arguments without an explicit keyword will result in an error or misinterpretation.\n",
      "\n"
     ]
    },
    {
     "data": {
      "image/png": "[encoded data removed]",
      "text/plain": [
       "<Figure size 432x288 with 1 Axes>"
      ]
     },
     "metadata": {},
     "output_type": "display_data"
    }
   ],
   "source": [
    "sns.set(style = \"darkgrid\")\n",
    "sns.countplot(ipl_data_1[\"innings\"], palette = \"pastel\")\n",
    "plt.title(\"Values Count of Innings\", fontsize = 20, fontweight = \"bold\")\n",
    "plt.xlabel(\"Inning\", fontsize = 15)\n",
    "plt.ylabel(\"Count\", fontsize = 15)\n",
    "plt.xticks(rotation = 90)\n",
    "plt.show()"
   ]
  },
  {
   "cell_type": "markdown",
   "id": "fbbb311c",
   "metadata": {},
   "source": [
    "Observation:\n",
    "    Here in IPL there are two innings\n",
    "    data of first inning is more than second innings this may be match not fully completed beacause of rain or any other reasons."
   ]
  },
  {
   "cell_type": "markdown",
   "id": "af7e3495",
   "metadata": {},
   "source": [
    "#### Exploring ball feature\n"
   ]
  },
  {
   "cell_type": "markdown",
   "id": "e3d15aa6",
   "metadata": {},
   "source": [
    "  create new column called over which extract over number from ball columns."
   ]
  },
  {
   "cell_type": "code",
   "execution_count": 10,
   "id": "b8ccf64a",
   "metadata": {},
   "outputs": [],
   "source": [
    "def extract_integer(val):\n",
    "    return int(val) if val < 20 else int(str(val).split(\".\")[0])"
   ]
  },
  {
   "cell_type": "code",
   "execution_count": 11,
   "id": "6651abf8",
   "metadata": {},
   "outputs": [],
   "source": [
    "ipl_data_2 = ipl_data_1"
   ]
  },
  {
   "cell_type": "code",
   "execution_count": 13,
   "id": "e2ffc504",
   "metadata": {},
   "outputs": [
    {
     "name": "stderr",
     "output_type": "stream",
     "text": [
      "C:\\Users\\donda\\AppData\\Local\\Temp\\ipykernel_19276\\1745824940.py:1: SettingWithCopyWarning: \n",
      "A value is trying to be set on a copy of a slice from a DataFrame.\n",
      "Try using .loc[row_indexer,col_indexer] = value instead\n",
      "\n",
      "See the caveats in the documentation: https://pandas.pydata.org/pandas-docs/stable/user_guide/indexing.html#returning-a-view-versus-a-copy\n",
      "  ipl_data_1['over'] = ipl_data_1['ball'].apply(extract_integer)\n"
     ]
    }
   ],
   "source": [
    "ipl_data_1['over'] = ipl_data_1['ball'].apply(extract_integer)"
   ]
  },
  {
   "cell_type": "code",
   "execution_count": 90,
   "id": "1668d90d",
   "metadata": {},
   "outputs": [
    {
     "name": "stderr",
     "output_type": "stream",
     "text": [
      "C:\\ProgramData\\Anaconda3\\lib\\site-packages\\seaborn\\_decorators.py:36: FutureWarning:\n",
      "\n",
      "Pass the following variable as a keyword arg: x. From version 0.12, the only valid positional argument will be `data`, and passing other arguments without an explicit keyword will result in an error or misinterpretation.\n",
      "\n"
     ]
    },
    {
     "data": {
      "image/png": "[encoded data removed]",
      "text/plain": [
       "<Figure size 432x288 with 1 Axes>"
      ]
     },
     "metadata": {},
     "output_type": "display_data"
    }
   ],
   "source": [
    "sns.set(style = \"darkgrid\")\n",
    "sns.countplot(ipl_data_2[\"over\"], palette = \"pastel\")\n",
    "plt.title(\"Values Count of Over\", fontsize = 20, fontweight = \"bold\")\n",
    "plt.xlabel(\"Over\", fontsize = 15)\n",
    "plt.ylabel(\"Count\", fontsize = 15)\n",
    "plt.xticks(rotation = 90)\n",
    "plt.show()"
   ]
  },
  {
   "cell_type": "markdown",
   "id": "b4d1f669",
   "metadata": {},
   "source": [
    "Observation:\n",
    "    Over start from 0 to 19 it here it has 20 overs matches\n",
    "    most of the time matches were finished last over"
   ]
  },
  {
   "cell_type": "markdown",
   "id": "158bd641",
   "metadata": {},
   "source": [
    "#### exploring wicket_type, Extrar run type, extrat run and dismmisal type."
   ]
  },
  {
   "cell_type": "code",
   "execution_count": 91,
   "id": "0d348100",
   "metadata": {},
   "outputs": [
    {
     "data": {
      "application/vnd.plotly.v1+json": {
       "config": {
        "plotlyServerURL": "https://plot.ly"
       },
       "data": [
        {
         "name": "Wicket tacking over by ball",
         "type": "bar",
         "x": [
          20.6,
          20.4,
          20.2,
          20.5,
          20.3,
          18.2,
          20.1,
          19.6,
          18.1,
          19.1,
          18.4,
          18.3,
          19.3,
          19.2,
          18.6,
          19.5,
          19.4,
          16.5,
          16.2,
          17.4,
          17.2,
          17.5,
          17.1,
          15.1,
          17.3,
          18.5,
          16.3,
          15.2,
          14.4,
          16.6,
          14.1,
          4.3,
          15.5,
          4.4,
          16.4,
          12.4,
          5.6,
          14.2,
          15.4,
          17.6,
          11.6,
          14.3,
          13.2,
          3.2,
          10.5,
          15.6,
          11.4,
          12.2,
          13.6,
          9.2,
          16.1,
          6.2,
          12.6,
          9.4,
          14.5,
          13.5,
          6.5,
          10.4,
          9.3,
          6.3,
          3.3,
          8.3,
          5.4,
          11.3,
          3.5,
          6.4,
          5.3,
          13.1,
          11.5,
          11.2,
          15.3,
          5.5,
          2.5,
          6.6,
          5.2,
          2.6,
          12.5,
          14.6,
          13.3,
          3.4,
          3.6,
          4.6,
          5.1,
          12.3,
          2.3,
          4.1,
          8.2,
          2.4,
          11.1,
          9.6,
          10.2,
          7.5,
          3.1,
          12.1,
          13.4,
          7.1,
          1.6,
          10.1,
          9.1,
          8.4,
          2.2,
          7.4,
          6.1,
          1.5,
          8.5,
          9.5,
          10.6,
          7.6,
          4.5,
          1.4,
          4.2,
          7.2,
          8.6,
          1.1,
          7.3,
          1.2,
          20.7,
          2.1,
          10.3,
          8.1,
          1.3,
          18.7,
          19.7,
          17.7,
          15.7,
          16.7,
          2.7,
          13.7,
          5.7,
          4.7,
          12.7,
          8.7,
          9.7,
          1.7,
          11.7,
          6.7,
          14.7,
          19.8,
          3.7,
          20.8,
          7.7,
          10.7,
          17.8,
          2.8,
          11.8,
          14.8,
          18.8,
          1.8,
          20.9,
          19.9,
          9.8,
          13.8,
          6.8,
          7.8,
          4.8,
          3.8,
          10.9,
          16.9,
          13.9,
          9.9,
          16.8,
          4.9
         ],
         "xaxis": "x",
         "y": [
          215,
          192,
          179,
          169,
          160,
          157,
          151,
          148,
          139,
          139,
          136,
          135,
          134,
          133,
          132,
          131,
          129,
          118,
          117,
          114,
          113,
          110,
          109,
          109,
          109,
          109,
          108,
          106,
          100,
          100,
          98,
          98,
          97,
          96,
          95,
          95,
          95,
          92,
          91,
          90,
          89,
          87,
          87,
          85,
          85,
          85,
          84,
          84,
          84,
          84,
          83,
          83,
          82,
          82,
          81,
          81,
          81,
          80,
          80,
          80,
          79,
          78,
          78,
          78,
          78,
          78,
          77,
          77,
          77,
          77,
          77,
          76,
          75,
          75,
          75,
          74,
          74,
          74,
          73,
          73,
          73,
          72,
          72,
          72,
          72,
          71,
          71,
          71,
          70,
          70,
          70,
          69,
          69,
          69,
          68,
          68,
          68,
          68,
          68,
          67,
          67,
          66,
          65,
          65,
          65,
          64,
          62,
          60,
          60,
          59,
          59,
          58,
          58,
          57,
          56,
          55,
          54,
          54,
          52,
          51,
          50,
          38,
          38,
          24,
          23,
          20,
          16,
          14,
          12,
          12,
          12,
          12,
          12,
          11,
          10,
          10,
          9,
          8,
          8,
          8,
          7,
          6,
          6,
          4,
          3,
          3,
          3,
          3,
          2,
          2,
          2,
          2,
          2,
          1,
          1,
          1,
          1,
          1,
          1,
          1,
          1,
          1
         ],
         "yaxis": "y"
        },
        {
         "name": "Out type",
         "type": "bar",
         "x": [
          "caught",
          "bowled",
          "run out",
          "lbw",
          "stumped",
          "caught and bowled",
          "hit wicket",
          "retired hurt",
          "obstructing the field",
          "retired out"
         ],
         "xaxis": "x2",
         "y": [
          6827,
          1936,
          1000,
          683,
          325,
          323,
          14,
          13,
          2,
          1
         ],
         "yaxis": "y2"
        },
        {
         "name": "Extra run come from",
         "type": "bar",
         "x": [
          "wides",
          "legbyes",
          "noballs",
          "byes",
          "penalty"
         ],
         "xaxis": "x3",
         "y": [
          7020,
          3523,
          904,
          581,
          2
         ],
         "yaxis": "y3"
        },
        {
         "name": "Extra type",
         "type": "bar",
         "x": [
          1,
          2,
          4,
          5,
          3,
          7
         ],
         "xaxis": "x4",
         "y": [
          10742,
          498,
          436,
          275,
          78,
          1
         ],
         "yaxis": "y4"
        }
       ],
       "layout": {
        "annotations": [
         {
          "font": {
           "size": 16
          },
          "showarrow": false,
          "text": "Highest wicket taker overs by ball",
          "x": 0.225,
          "xanchor": "center",
          "xref": "paper",
          "y": 1,
          "yanchor": "bottom",
          "yref": "paper"
         },
         {
          "font": {
           "size": 16
          },
          "showarrow": false,
          "text": "Top Dismissal types",
          "x": 0.775,
          "xanchor": "center",
          "xref": "paper",
          "y": 1,
          "yanchor": "bottom",
          "yref": "paper"
         },
         {
          "font": {
           "size": 16
          },
          "showarrow": false,
          "text": "How most Extra runs come?",
          "x": 0.225,
          "xanchor": "center",
          "xref": "paper",
          "y": 0.375,
          "yanchor": "bottom",
          "yref": "paper"
         },
         {
          "font": {
           "size": 16
          },
          "showarrow": false,
          "text": "How many Extra runs Come most",
          "x": 0.775,
          "xanchor": "center",
          "xref": "paper",
          "y": 0.375,
          "yanchor": "bottom",
          "yref": "paper"
         },
         {
          "font": {
           "size": 16
          },
          "showarrow": false,
          "text": "count",
          "textangle": -90,
          "x": 0,
          "xanchor": "right",
          "xref": "paper",
          "xshift": -40,
          "y": 0.5,
          "yanchor": "middle",
          "yref": "paper"
         }
        ],
        "height": 700,
        "template": {
         "data": {
          "bar": [
           {
            "error_x": {
             "color": "#2a3f5f"
            },
            "error_y": {
             "color": "#2a3f5f"
            },
            "marker": {
             "line": {
              "color": "#E5ECF6",
              "width": 0.5
             },
             "pattern": {
              "fillmode": "overlay",
              "size": 10,
              "solidity": 0.2
             }
            },
            "type": "bar"
           }
          ],
          "barpolar": [
           {
            "marker": {
             "line": {
              "color": "#E5ECF6",
              "width": 0.5
             },
             "pattern": {
              "fillmode": "overlay",
              "size": 10,
              "solidity": 0.2
             }
            },
            "type": "barpolar"
           }
          ],
          "carpet": [
           {
            "aaxis": {
             "endlinecolor": "#2a3f5f",
             "gridcolor": "white",
             "linecolor": "white",
             "minorgridcolor": "white",
             "startlinecolor": "#2a3f5f"
            },
            "baxis": {
             "endlinecolor": "#2a3f5f",
             "gridcolor": "white",
             "linecolor": "white",
             "minorgridcolor": "white",
             "startlinecolor": "#2a3f5f"
            },
            "type": "carpet"
           }
          ],
          "choropleth": [
           {
            "colorbar": {
             "outlinewidth": 0,
             "ticks": ""
            },
            "type": "choropleth"
           }
          ],
          "contour": [
           {
            "colorbar": {
             "outlinewidth": 0,
             "ticks": ""
            },
            "colorscale": [
             [
              0,
              "#0d0887"
             ],
             [
              0.1111111111111111,
              "#46039f"
             ],
             [
              0.2222222222222222,
              "#7201a8"
             ],
             [
              0.3333333333333333,
              "#9c179e"
             ],
             [
              0.4444444444444444,
              "#bd3786"
             ],
             [
              0.5555555555555556,
              "#d8576b"
             ],
             [
              0.6666666666666666,
              "#ed7953"
             ],
             [
              0.7777777777777778,
              "#fb9f3a"
             ],
             [
              0.8888888888888888,
              "#fdca26"
             ],
             [
              1,
              "#f0f921"
             ]
            ],
            "type": "contour"
           }
          ],
          "contourcarpet": [
           {
            "colorbar": {
             "outlinewidth": 0,
             "ticks": ""
            },
            "type": "contourcarpet"
           }
          ],
          "heatmap": [
           {
            "colorbar": {
             "outlinewidth": 0,
             "ticks": ""
            },
            "colorscale": [
             [
              0,
              "#0d0887"
             ],
             [
              0.1111111111111111,
              "#46039f"
             ],
             [
              0.2222222222222222,
              "#7201a8"
             ],
             [
              0.3333333333333333,
              "#9c179e"
             ],
             [
              0.4444444444444444,
              "#bd3786"
             ],
             [
              0.5555555555555556,
              "#d8576b"
             ],
             [
              0.6666666666666666,
              "#ed7953"
             ],
             [
              0.7777777777777778,
              "#fb9f3a"
             ],
             [
              0.8888888888888888,
              "#fdca26"
             ],
             [
              1,
              "#f0f921"
             ]
            ],
            "type": "heatmap"
           }
          ],
          "heatmapgl": [
           {
            "colorbar": {
             "outlinewidth": 0,
             "ticks": ""
            },
            "colorscale": [
             [
              0,
              "#0d0887"
             ],
             [
              0.1111111111111111,
              "#46039f"
             ],
             [
              0.2222222222222222,
              "#7201a8"
             ],
             [
              0.3333333333333333,
              "#9c179e"
             ],
             [
              0.4444444444444444,
              "#bd3786"
             ],
             [
              0.5555555555555556,
              "#d8576b"
             ],
             [
              0.6666666666666666,
              "#ed7953"
             ],
             [
              0.7777777777777778,
              "#fb9f3a"
             ],
             [
              0.8888888888888888,
              "#fdca26"
             ],
             [
              1,
              "#f0f921"
             ]
            ],
            "type": "heatmapgl"
           }
          ],
          "histogram": [
           {
            "marker": {
             "pattern": {
              "fillmode": "overlay",
              "size": 10,
              "solidity": 0.2
             }
            },
            "type": "histogram"
           }
          ],
          "histogram2d": [
           {
            "colorbar": {
             "outlinewidth": 0,
             "ticks": ""
            },
            "colorscale": [
             [
              0,
              "#0d0887"
             ],
             [
              0.1111111111111111,
              "#46039f"
             ],
             [
              0.2222222222222222,
              "#7201a8"
             ],
             [
              0.3333333333333333,
              "#9c179e"
             ],
             [
              0.4444444444444444,
              "#bd3786"
             ],
             [
              0.5555555555555556,
              "#d8576b"
             ],
             [
              0.6666666666666666,
              "#ed7953"
             ],
             [
              0.7777777777777778,
              "#fb9f3a"
             ],
             [
              0.8888888888888888,
              "#fdca26"
             ],
             [
              1,
              "#f0f921"
             ]
            ],
            "type": "histogram2d"
           }
          ],
          "histogram2dcontour": [
           {
            "colorbar": {
             "outlinewidth": 0,
             "ticks": ""
            },
            "colorscale": [
             [
              0,
              "#0d0887"
             ],
             [
              0.1111111111111111,
              "#46039f"
             ],
             [
              0.2222222222222222,
              "#7201a8"
             ],
             [
              0.3333333333333333,
              "#9c179e"
             ],
             [
              0.4444444444444444,
              "#bd3786"
             ],
             [
              0.5555555555555556,
              "#d8576b"
             ],
             [
              0.6666666666666666,
              "#ed7953"
             ],
             [
              0.7777777777777778,
              "#fb9f3a"
             ],
             [
              0.8888888888888888,
              "#fdca26"
             ],
             [
              1,
              "#f0f921"
             ]
            ],
            "type": "histogram2dcontour"
           }
          ],
          "mesh3d": [
           {
            "colorbar": {
             "outlinewidth": 0,
             "ticks": ""
            },
            "type": "mesh3d"
           }
          ],
          "parcoords": [
           {
            "line": {
             "colorbar": {
              "outlinewidth": 0,
              "ticks": ""
             }
            },
            "type": "parcoords"
           }
          ],
          "pie": [
           {
            "automargin": true,
            "type": "pie"
           }
          ],
          "scatter": [
           {
            "marker": {
             "colorbar": {
              "outlinewidth": 0,
              "ticks": ""
             }
            },
            "type": "scatter"
           }
          ],
          "scatter3d": [
           {
            "line": {
             "colorbar": {
              "outlinewidth": 0,
              "ticks": ""
             }
            },
            "marker": {
             "colorbar": {
              "outlinewidth": 0,
              "ticks": ""
             }
            },
            "type": "scatter3d"
           }
          ],
          "scattercarpet": [
           {
            "marker": {
             "colorbar": {
              "outlinewidth": 0,
              "ticks": ""
             }
            },
            "type": "scattercarpet"
           }
          ],
          "scattergeo": [
           {
            "marker": {
             "colorbar": {
              "outlinewidth": 0,
              "ticks": ""
             }
            },
            "type": "scattergeo"
           }
          ],
          "scattergl": [
           {
            "marker": {
             "colorbar": {
              "outlinewidth": 0,
              "ticks": ""
             }
            },
            "type": "scattergl"
           }
          ],
          "scattermapbox": [
           {
            "marker": {
             "colorbar": {
              "outlinewidth": 0,
              "ticks": ""
             }
            },
            "type": "scattermapbox"
           }
          ],
          "scatterpolar": [
           {
            "marker": {
             "colorbar": {
              "outlinewidth": 0,
              "ticks": ""
             }
            },
            "type": "scatterpolar"
           }
          ],
          "scatterpolargl": [
           {
            "marker": {
             "colorbar": {
              "outlinewidth": 0,
              "ticks": ""
             }
            },
            "type": "scatterpolargl"
           }
          ],
          "scatterternary": [
           {
            "marker": {
             "colorbar": {
              "outlinewidth": 0,
              "ticks": ""
             }
            },
            "type": "scatterternary"
           }
          ],
          "surface": [
           {
            "colorbar": {
             "outlinewidth": 0,
             "ticks": ""
            },
            "colorscale": [
             [
              0,
              "#0d0887"
             ],
             [
              0.1111111111111111,
              "#46039f"
             ],
             [
              0.2222222222222222,
              "#7201a8"
             ],
             [
              0.3333333333333333,
              "#9c179e"
             ],
             [
              0.4444444444444444,
              "#bd3786"
             ],
             [
              0.5555555555555556,
              "#d8576b"
             ],
             [
              0.6666666666666666,
              "#ed7953"
             ],
             [
              0.7777777777777778,
              "#fb9f3a"
             ],
             [
              0.8888888888888888,
              "#fdca26"
             ],
             [
              1,
              "#f0f921"
             ]
            ],
            "type": "surface"
           }
          ],
          "table": [
           {
            "cells": {
             "fill": {
              "color": "#EBF0F8"
             },
             "line": {
              "color": "white"
             }
            },
            "header": {
             "fill": {
              "color": "#C8D4E3"
             },
             "line": {
              "color": "white"
             }
            },
            "type": "table"
           }
          ]
         },
         "layout": {
          "annotationdefaults": {
           "arrowcolor": "#2a3f5f",
           "arrowhead": 0,
           "arrowwidth": 1
          },
          "autotypenumbers": "strict",
          "coloraxis": {
           "colorbar": {
            "outlinewidth": 0,
            "ticks": ""
           }
          },
          "colorscale": {
           "diverging": [
            [
             0,
             "#8e0152"
            ],
            [
             0.1,
             "#c51b7d"
            ],
            [
             0.2,
             "#de77ae"
            ],
            [
             0.3,
             "#f1b6da"
            ],
            [
             0.4,
             "#fde0ef"
            ],
            [
             0.5,
             "#f7f7f7"
            ],
            [
             0.6,
             "#e6f5d0"
            ],
            [
             0.7,
             "#b8e186"
            ],
            [
             0.8,
             "#7fbc41"
            ],
            [
             0.9,
             "#4d9221"
            ],
            [
             1,
             "#276419"
            ]
           ],
           "sequential": [
            [
             0,
             "#0d0887"
            ],
            [
             0.1111111111111111,
             "#46039f"
            ],
            [
             0.2222222222222222,
             "#7201a8"
            ],
            [
             0.3333333333333333,
             "#9c179e"
            ],
            [
             0.4444444444444444,
             "#bd3786"
            ],
            [
             0.5555555555555556,
             "#d8576b"
            ],
            [
             0.6666666666666666,
             "#ed7953"
            ],
            [
             0.7777777777777778,
             "#fb9f3a"
            ],
            [
             0.8888888888888888,
             "#fdca26"
            ],
            [
             1,
             "#f0f921"
            ]
           ],
           "sequentialminus": [
            [
             0,
             "#0d0887"
            ],
            [
             0.1111111111111111,
             "#46039f"
            ],
            [
             0.2222222222222222,
             "#7201a8"
            ],
            [
             0.3333333333333333,
             "#9c179e"
            ],
            [
             0.4444444444444444,
             "#bd3786"
            ],
            [
             0.5555555555555556,
             "#d8576b"
            ],
            [
             0.6666666666666666,
             "#ed7953"
            ],
            [
             0.7777777777777778,
             "#fb9f3a"
            ],
            [
             0.8888888888888888,
             "#fdca26"
            ],
            [
             1,
             "#f0f921"
            ]
           ]
          },
          "colorway": [
           "#636efa",
           "#EF553B",
           "#00cc96",
           "#ab63fa",
           "#FFA15A",
           "#19d3f3",
           "#FF6692",
           "#B6E880",
           "#FF97FF",
           "#FECB52"
          ],
          "font": {
           "color": "#2a3f5f"
          },
          "geo": {
           "bgcolor": "white",
           "lakecolor": "white",
           "landcolor": "#E5ECF6",
           "showlakes": true,
           "showland": true,
           "subunitcolor": "white"
          },
          "hoverlabel": {
           "align": "left"
          },
          "hovermode": "closest",
          "mapbox": {
           "style": "light"
          },
          "paper_bgcolor": "white",
          "plot_bgcolor": "#E5ECF6",
          "polar": {
           "angularaxis": {
            "gridcolor": "white",
            "linecolor": "white",
            "ticks": ""
           },
           "bgcolor": "#E5ECF6",
           "radialaxis": {
            "gridcolor": "white",
            "linecolor": "white",
            "ticks": ""
           }
          },
          "scene": {
           "xaxis": {
            "backgroundcolor": "#E5ECF6",
            "gridcolor": "white",
            "gridwidth": 2,
            "linecolor": "white",
            "showbackground": true,
            "ticks": "",
            "zerolinecolor": "white"
           },
           "yaxis": {
            "backgroundcolor": "#E5ECF6",
            "gridcolor": "white",
            "gridwidth": 2,
            "linecolor": "white",
            "showbackground": true,
            "ticks": "",
            "zerolinecolor": "white"
           },
           "zaxis": {
            "backgroundcolor": "#E5ECF6",
            "gridcolor": "white",
            "gridwidth": 2,
            "linecolor": "white",
            "showbackground": true,
            "ticks": "",
            "zerolinecolor": "white"
           }
          },
          "shapedefaults": {
           "line": {
            "color": "#2a3f5f"
           }
          },
          "ternary": {
           "aaxis": {
            "gridcolor": "white",
            "linecolor": "white",
            "ticks": ""
           },
           "baxis": {
            "gridcolor": "white",
            "linecolor": "white",
            "ticks": ""
           },
           "bgcolor": "#E5ECF6",
           "caxis": {
            "gridcolor": "white",
            "linecolor": "white",
            "ticks": ""
           }
          },
          "title": {
           "x": 0.05
          },
          "xaxis": {
           "automargin": true,
           "gridcolor": "white",
           "linecolor": "white",
           "ticks": "",
           "title": {
            "standoff": 15
           },
           "zerolinecolor": "white",
           "zerolinewidth": 2
          },
          "yaxis": {
           "automargin": true,
           "gridcolor": "white",
           "linecolor": "white",
           "ticks": "",
           "title": {
            "standoff": 15
           },
           "zerolinecolor": "white",
           "zerolinewidth": 2
          }
         }
        },
        "width": 900,
        "xaxis": {
         "anchor": "y",
         "domain": [
          0,
          0.45
         ]
        },
        "xaxis2": {
         "anchor": "y2",
         "domain": [
          0.55,
          1
         ]
        },
        "xaxis3": {
         "anchor": "y3",
         "domain": [
          0,
          0.45
         ]
        },
        "xaxis4": {
         "anchor": "y4",
         "domain": [
          0.55,
          1
         ]
        },
        "yaxis": {
         "anchor": "x",
         "domain": [
          0.625,
          1
         ]
        },
        "yaxis2": {
         "anchor": "x2",
         "domain": [
          0.625,
          1
         ]
        },
        "yaxis3": {
         "anchor": "x3",
         "domain": [
          0,
          0.375
         ]
        },
        "yaxis4": {
         "anchor": "x4",
         "domain": [
          0,
          0.375
         ]
        }
       }
      },
      "text/html": [
       "<div>                            <div id=\"b6f2a304-59fd-472b-bd1c-f31c2431faa8\" class=\"plotly-graph-div\" style=\"height:700px; width:900px;\"></div>            <script type=\"text/javascript\">                require([\"plotly\"], function(Plotly) {                    window.PLOTLYENV=window.PLOTLYENV || {};                                    if (document.getElementById(\"b6f2a304-59fd-472b-bd1c-f31c2431faa8\")) {                    Plotly.newPlot(                        \"b6f2a304-59fd-472b-bd1c-f31c2431faa8\",                        [{\"name\":\"Wicket tacking over by ball\",\"x\":[20.6,20.4,20.2,20.5,20.3,18.2,20.1,19.6,18.1,19.1,18.4,18.3,19.3,19.2,18.6,19.5,19.4,16.5,16.2,17.4,17.2,17.5,17.1,15.1,17.3,18.5,16.3,15.2,14.4,16.6,14.1,4.3,15.5,4.4,16.4,12.4,5.6,14.2,15.4,17.6,11.6,14.3,13.2,3.2,10.5,15.6,11.4,12.2,13.6,9.2,16.1,6.2,12.6,9.4,14.5,13.5,6.5,10.4,9.3,6.3,3.3,8.3,5.4,11.3,3.5,6.4,5.3,13.1,11.5,11.2,15.3,5.5,2.5,6.6,5.2,2.6,12.5,14.6,13.3,3.4,3.6,4.6,5.1,12.3,2.3,4.1,8.2,2.4,11.1,9.6,10.2,7.5,3.1,12.1,13.4,7.1,1.6,10.1,9.1,8.4,2.2,7.4,6.1,1.5,8.5,9.5,10.6,7.6,4.5,1.4,4.2,7.2,8.6,1.1,7.3,1.2,20.7,2.1,10.3,8.1,1.3,18.7,19.7,17.7,15.7,16.7,2.7,13.7,5.7,4.7,12.7,8.7,9.7,1.7,11.7,6.7,14.7,19.8,3.7,20.8,7.7,10.7,17.8,2.8,11.8,14.8,18.8,1.8,20.9,19.9,9.8,13.8,6.8,7.8,4.8,3.8,10.9,16.9,13.9,9.9,16.8,4.9],\"y\":[215,192,179,169,160,157,151,148,139,139,136,135,134,133,132,131,129,118,117,114,113,110,109,109,109,109,108,106,100,100,98,98,97,96,95,95,95,92,91,90,89,87,87,85,85,85,84,84,84,84,83,83,82,82,81,81,81,80,80,80,79,78,78,78,78,78,77,77,77,77,77,76,75,75,75,74,74,74,73,73,73,72,72,72,72,71,71,71,70,70,70,69,69,69,68,68,68,68,68,67,67,66,65,65,65,64,62,60,60,59,59,58,58,57,56,55,54,54,52,51,50,38,38,24,23,20,16,14,12,12,12,12,12,11,10,10,9,8,8,8,7,6,6,4,3,3,3,3,2,2,2,2,2,1,1,1,1,1,1,1,1,1],\"type\":\"bar\",\"xaxis\":\"x\",\"yaxis\":\"y\"},{\"name\":\"Out type\",\"x\":[\"caught\",\"bowled\",\"run out\",\"lbw\",\"stumped\",\"caught and bowled\",\"hit wicket\",\"retired hurt\",\"obstructing the field\",\"retired out\"],\"y\":[6827,1936,1000,683,325,323,14,13,2,1],\"type\":\"bar\",\"xaxis\":\"x2\",\"yaxis\":\"y2\"},{\"name\":\"Extra run come from\",\"x\":[\"wides\",\"legbyes\",\"noballs\",\"byes\",\"penalty\"],\"y\":[7020,3523,904,581,2],\"type\":\"bar\",\"xaxis\":\"x3\",\"yaxis\":\"y3\"},{\"name\":\"Extra type\",\"x\":[1,2,4,5,3,7],\"y\":[10742,498,436,275,78,1],\"type\":\"bar\",\"xaxis\":\"x4\",\"yaxis\":\"y4\"}],                        {\"template\":{\"data\":{\"bar\":[{\"error_x\":{\"color\":\"#2a3f5f\"},\"error_y\":{\"color\":\"#2a3f5f\"},\"marker\":{\"line\":{\"color\":\"#E5ECF6\",\"width\":0.5},\"pattern\":{\"fillmode\":\"overlay\",\"size\":10,\"solidity\":0.2}},\"type\":\"bar\"}],\"barpolar\":[{\"marker\":{\"line\":{\"color\":\"#E5ECF6\",\"width\":0.5},\"pattern\":{\"fillmode\":\"overlay\",\"size\":10,\"solidity\":0.2}},\"type\":\"barpolar\"}],\"carpet\":[{\"aaxis\":{\"endlinecolor\":\"#2a3f5f\",\"gridcolor\":\"white\",\"linecolor\":\"white\",\"minorgridcolor\":\"white\",\"startlinecolor\":\"#2a3f5f\"},\"baxis\":{\"endlinecolor\":\"#2a3f5f\",\"gridcolor\":\"white\",\"linecolor\":\"white\",\"minorgridcolor\":\"white\",\"startlinecolor\":\"#2a3f5f\"},\"type\":\"carpet\"}],\"choropleth\":[{\"colorbar\":{\"outlinewidth\":0,\"ticks\":\"\"},\"type\":\"choropleth\"}],\"contour\":[{\"colorbar\":{\"outlinewidth\":0,\"ticks\":\"\"},\"colorscale\":[[0.0,\"#0d0887\"],[0.1111111111111111,\"#46039f\"],[0.2222222222222222,\"#7201a8\"],[0.3333333333333333,\"#9c179e\"],[0.4444444444444444,\"#bd3786\"],[0.5555555555555556,\"#d8576b\"],[0.6666666666666666,\"#ed7953\"],[0.7777777777777778,\"#fb9f3a\"],[0.8888888888888888,\"#fdca26\"],[1.0,\"#f0f921\"]],\"type\":\"contour\"}],\"contourcarpet\":[{\"colorbar\":{\"outlinewidth\":0,\"ticks\":\"\"},\"type\":\"contourcarpet\"}],\"heatmap\":[{\"colorbar\":{\"outlinewidth\":0,\"ticks\":\"\"},\"colorscale\":[[0.0,\"#0d0887\"],[0.1111111111111111,\"#46039f\"],[0.2222222222222222,\"#7201a8\"],[0.3333333333333333,\"#9c179e\"],[0.4444444444444444,\"#bd3786\"],[0.5555555555555556,\"#d8576b\"],[0.6666666666666666,\"#ed7953\"],[0.7777777777777778,\"#fb9f3a\"],[0.8888888888888888,\"#fdca26\"],[1.0,\"#f0f921\"]],\"type\":\"heatmap\"}],\"heatmapgl\":[{\"colorbar\":{\"outlinewidth\":0,\"ticks\":\"\"},\"colorscale\":[[0.0,\"#0d0887\"],[0.1111111111111111,\"#46039f\"],[0.2222222222222222,\"#7201a8\"],[0.3333333333333333,\"#9c179e\"],[0.4444444444444444,\"#bd3786\"],[0.5555555555555556,\"#d8576b\"],[0.6666666666666666,\"#ed7953\"],[0.7777777777777778,\"#fb9f3a\"],[0.8888888888888888,\"#fdca26\"],[1.0,\"#f0f921\"]],\"type\":\"heatmapgl\"}],\"histogram\":[{\"marker\":{\"pattern\":{\"fillmode\":\"overlay\",\"size\":10,\"solidity\":0.2}},\"type\":\"histogram\"}],\"histogram2d\":[{\"colorbar\":{\"outlinewidth\":0,\"ticks\":\"\"},\"colorscale\":[[0.0,\"#0d0887\"],[0.1111111111111111,\"#46039f\"],[0.2222222222222222,\"#7201a8\"],[0.3333333333333333,\"#9c179e\"],[0.4444444444444444,\"#bd3786\"],[0.5555555555555556,\"#d8576b\"],[0.6666666666666666,\"#ed7953\"],[0.7777777777777778,\"#fb9f3a\"],[0.8888888888888888,\"#fdca26\"],[1.0,\"#f0f921\"]],\"type\":\"histogram2d\"}],\"histogram2dcontour\":[{\"colorbar\":{\"outlinewidth\":0,\"ticks\":\"\"},\"colorscale\":[[0.0,\"#0d0887\"],[0.1111111111111111,\"#46039f\"],[0.2222222222222222,\"#7201a8\"],[0.3333333333333333,\"#9c179e\"],[0.4444444444444444,\"#bd3786\"],[0.5555555555555556,\"#d8576b\"],[0.6666666666666666,\"#ed7953\"],[0.7777777777777778,\"#fb9f3a\"],[0.8888888888888888,\"#fdca26\"],[1.0,\"#f0f921\"]],\"type\":\"histogram2dcontour\"}],\"mesh3d\":[{\"colorbar\":{\"outlinewidth\":0,\"ticks\":\"\"},\"type\":\"mesh3d\"}],\"parcoords\":[{\"line\":{\"colorbar\":{\"outlinewidth\":0,\"ticks\":\"\"}},\"type\":\"parcoords\"}],\"pie\":[{\"automargin\":true,\"type\":\"pie\"}],\"scatter\":[{\"marker\":{\"colorbar\":{\"outlinewidth\":0,\"ticks\":\"\"}},\"type\":\"scatter\"}],\"scatter3d\":[{\"line\":{\"colorbar\":{\"outlinewidth\":0,\"ticks\":\"\"}},\"marker\":{\"colorbar\":{\"outlinewidth\":0,\"ticks\":\"\"}},\"type\":\"scatter3d\"}],\"scattercarpet\":[{\"marker\":{\"colorbar\":{\"outlinewidth\":0,\"ticks\":\"\"}},\"type\":\"scattercarpet\"}],\"scattergeo\":[{\"marker\":{\"colorbar\":{\"outlinewidth\":0,\"ticks\":\"\"}},\"type\":\"scattergeo\"}],\"scattergl\":[{\"marker\":{\"colorbar\":{\"outlinewidth\":0,\"ticks\":\"\"}},\"type\":\"scattergl\"}],\"scattermapbox\":[{\"marker\":{\"colorbar\":{\"outlinewidth\":0,\"ticks\":\"\"}},\"type\":\"scattermapbox\"}],\"scatterpolar\":[{\"marker\":{\"colorbar\":{\"outlinewidth\":0,\"ticks\":\"\"}},\"type\":\"scatterpolar\"}],\"scatterpolargl\":[{\"marker\":{\"colorbar\":{\"outlinewidth\":0,\"ticks\":\"\"}},\"type\":\"scatterpolargl\"}],\"scatterternary\":[{\"marker\":{\"colorbar\":{\"outlinewidth\":0,\"ticks\":\"\"}},\"type\":\"scatterternary\"}],\"surface\":[{\"colorbar\":{\"outlinewidth\":0,\"ticks\":\"\"},\"colorscale\":[[0.0,\"#0d0887\"],[0.1111111111111111,\"#46039f\"],[0.2222222222222222,\"#7201a8\"],[0.3333333333333333,\"#9c179e\"],[0.4444444444444444,\"#bd3786\"],[0.5555555555555556,\"#d8576b\"],[0.6666666666666666,\"#ed7953\"],[0.7777777777777778,\"#fb9f3a\"],[0.8888888888888888,\"#fdca26\"],[1.0,\"#f0f921\"]],\"type\":\"surface\"}],\"table\":[{\"cells\":{\"fill\":{\"color\":\"#EBF0F8\"},\"line\":{\"color\":\"white\"}},\"header\":{\"fill\":{\"color\":\"#C8D4E3\"},\"line\":{\"color\":\"white\"}},\"type\":\"table\"}]},\"layout\":{\"annotationdefaults\":{\"arrowcolor\":\"#2a3f5f\",\"arrowhead\":0,\"arrowwidth\":1},\"autotypenumbers\":\"strict\",\"coloraxis\":{\"colorbar\":{\"outlinewidth\":0,\"ticks\":\"\"}},\"colorscale\":{\"diverging\":[[0,\"#8e0152\"],[0.1,\"#c51b7d\"],[0.2,\"#de77ae\"],[0.3,\"#f1b6da\"],[0.4,\"#fde0ef\"],[0.5,\"#f7f7f7\"],[0.6,\"#e6f5d0\"],[0.7,\"#b8e186\"],[0.8,\"#7fbc41\"],[0.9,\"#4d9221\"],[1,\"#276419\"]],\"sequential\":[[0.0,\"#0d0887\"],[0.1111111111111111,\"#46039f\"],[0.2222222222222222,\"#7201a8\"],[0.3333333333333333,\"#9c179e\"],[0.4444444444444444,\"#bd3786\"],[0.5555555555555556,\"#d8576b\"],[0.6666666666666666,\"#ed7953\"],[0.7777777777777778,\"#fb9f3a\"],[0.8888888888888888,\"#fdca26\"],[1.0,\"#f0f921\"]],\"sequentialminus\":[[0.0,\"#0d0887\"],[0.1111111111111111,\"#46039f\"],[0.2222222222222222,\"#7201a8\"],[0.3333333333333333,\"#9c179e\"],[0.4444444444444444,\"#bd3786\"],[0.5555555555555556,\"#d8576b\"],[0.6666666666666666,\"#ed7953\"],[0.7777777777777778,\"#fb9f3a\"],[0.8888888888888888,\"#fdca26\"],[1.0,\"#f0f921\"]]},\"colorway\":[\"#636efa\",\"#EF553B\",\"#00cc96\",\"#ab63fa\",\"#FFA15A\",\"#19d3f3\",\"#FF6692\",\"#B6E880\",\"#FF97FF\",\"#FECB52\"],\"font\":{\"color\":\"#2a3f5f\"},\"geo\":{\"bgcolor\":\"white\",\"lakecolor\":\"white\",\"landcolor\":\"#E5ECF6\",\"showlakes\":true,\"showland\":true,\"subunitcolor\":\"white\"},\"hoverlabel\":{\"align\":\"left\"},\"hovermode\":\"closest\",\"mapbox\":{\"style\":\"light\"},\"paper_bgcolor\":\"white\",\"plot_bgcolor\":\"#E5ECF6\",\"polar\":{\"angularaxis\":{\"gridcolor\":\"white\",\"linecolor\":\"white\",\"ticks\":\"\"},\"bgcolor\":\"#E5ECF6\",\"radialaxis\":{\"gridcolor\":\"white\",\"linecolor\":\"white\",\"ticks\":\"\"}},\"scene\":{\"xaxis\":{\"backgroundcolor\":\"#E5ECF6\",\"gridcolor\":\"white\",\"gridwidth\":2,\"linecolor\":\"white\",\"showbackground\":true,\"ticks\":\"\",\"zerolinecolor\":\"white\"},\"yaxis\":{\"backgroundcolor\":\"#E5ECF6\",\"gridcolor\":\"white\",\"gridwidth\":2,\"linecolor\":\"white\",\"showbackground\":true,\"ticks\":\"\",\"zerolinecolor\":\"white\"},\"zaxis\":{\"backgroundcolor\":\"#E5ECF6\",\"gridcolor\":\"white\",\"gridwidth\":2,\"linecolor\":\"white\",\"showbackground\":true,\"ticks\":\"\",\"zerolinecolor\":\"white\"}},\"shapedefaults\":{\"line\":{\"color\":\"#2a3f5f\"}},\"ternary\":{\"aaxis\":{\"gridcolor\":\"white\",\"linecolor\":\"white\",\"ticks\":\"\"},\"baxis\":{\"gridcolor\":\"white\",\"linecolor\":\"white\",\"ticks\":\"\"},\"bgcolor\":\"#E5ECF6\",\"caxis\":{\"gridcolor\":\"white\",\"linecolor\":\"white\",\"ticks\":\"\"}},\"title\":{\"x\":0.05},\"xaxis\":{\"automargin\":true,\"gridcolor\":\"white\",\"linecolor\":\"white\",\"ticks\":\"\",\"title\":{\"standoff\":15},\"zerolinecolor\":\"white\",\"zerolinewidth\":2},\"yaxis\":{\"automargin\":true,\"gridcolor\":\"white\",\"linecolor\":\"white\",\"ticks\":\"\",\"title\":{\"standoff\":15},\"zerolinecolor\":\"white\",\"zerolinewidth\":2}}},\"xaxis\":{\"anchor\":\"y\",\"domain\":[0.0,0.45]},\"yaxis\":{\"anchor\":\"x\",\"domain\":[0.625,1.0]},\"xaxis2\":{\"anchor\":\"y2\",\"domain\":[0.55,1.0]},\"yaxis2\":{\"anchor\":\"x2\",\"domain\":[0.625,1.0]},\"xaxis3\":{\"anchor\":\"y3\",\"domain\":[0.0,0.45]},\"yaxis3\":{\"anchor\":\"x3\",\"domain\":[0.0,0.375]},\"xaxis4\":{\"anchor\":\"y4\",\"domain\":[0.55,1.0]},\"yaxis4\":{\"anchor\":\"x4\",\"domain\":[0.0,0.375]},\"annotations\":[{\"font\":{\"size\":16},\"showarrow\":false,\"text\":\"Highest wicket taker overs by ball\",\"x\":0.225,\"xanchor\":\"center\",\"xref\":\"paper\",\"y\":1.0,\"yanchor\":\"bottom\",\"yref\":\"paper\"},{\"font\":{\"size\":16},\"showarrow\":false,\"text\":\"Top Dismissal types\",\"x\":0.775,\"xanchor\":\"center\",\"xref\":\"paper\",\"y\":1.0,\"yanchor\":\"bottom\",\"yref\":\"paper\"},{\"font\":{\"size\":16},\"showarrow\":false,\"text\":\"How most Extra runs come?\",\"x\":0.225,\"xanchor\":\"center\",\"xref\":\"paper\",\"y\":0.375,\"yanchor\":\"bottom\",\"yref\":\"paper\"},{\"font\":{\"size\":16},\"showarrow\":false,\"text\":\"How many Extra runs Come most\",\"x\":0.775,\"xanchor\":\"center\",\"xref\":\"paper\",\"y\":0.375,\"yanchor\":\"bottom\",\"yref\":\"paper\"},{\"font\":{\"size\":16},\"showarrow\":false,\"text\":\"count\",\"textangle\":-90,\"x\":0,\"xanchor\":\"right\",\"xref\":\"paper\",\"xshift\":-40,\"y\":0.5,\"yanchor\":\"middle\",\"yref\":\"paper\"}],\"height\":700,\"width\":900},                        {\"responsive\": true}                    ).then(function(){\n",
       "                            \n",
       "var gd = document.getElementById('b6f2a304-59fd-472b-bd1c-f31c2431faa8');\n",
       "var x = new MutationObserver(function (mutations, observer) {{\n",
       "        var display = window.getComputedStyle(gd).display;\n",
       "        if (!display || display === 'none') {{\n",
       "            console.log([gd, 'removed!']);\n",
       "            Plotly.purge(gd);\n",
       "            observer.disconnect();\n",
       "        }}\n",
       "}});\n",
       "\n",
       "// Listen for the removal of the full notebook cells\n",
       "var notebookContainer = gd.closest('#notebook-container');\n",
       "if (notebookContainer) {{\n",
       "    x.observe(notebookContainer, {childList: true});\n",
       "}}\n",
       "\n",
       "// Listen for the clearing of the current output cell\n",
       "var outputEl = gd.closest('.output');\n",
       "if (outputEl) {{\n",
       "    x.observe(outputEl, {childList: true});\n",
       "}}\n",
       "\n",
       "                        })                };                });            </script>        </div>"
      ]
     },
     "metadata": {},
     "output_type": "display_data"
    }
   ],
   "source": [
    "import plotly.graph_objects as go\n",
    "from plotly.subplots import make_subplots\n",
    "\n",
    "# Import your dataset and store it in a variable named \"balls\"\n",
    "\n",
    "out = ipl_data_2[\"wicket_type\"].value_counts()\n",
    "extat = ipl_data_2[\"extra_run_type\"].value_counts()\n",
    "extar = ipl_data_2[\"extra_runs\"].value_counts()[1:]\n",
    "over = ipl_data_2[ipl_data_1[\"is_wicket\"]==1][\"ball\"].value_counts()\n",
    "\n",
    "fig = make_subplots(cols=2,rows=2,\n",
    "    vertical_spacing = 0.25, horizontal_spacing=.1,\n",
    "    subplot_titles=[\"Highest wicket taker overs by ball\",\"Top Dismissal types\",\"How most Extra runs come?\",\"How many Extra runs Come most\"],\n",
    "    y_title=\"count\"\n",
    "    )\n",
    "\n",
    "fig.add_trace(go.Bar(x=over.index+1,y=over.values,name=\"Wicket tacking over by ball\"),row=1,col=1)\n",
    "fig.add_trace(go.Bar(x=out.index,y=out.values,name=\"Out type\"),row=1,col=2)\n",
    "fig.add_trace(go.Bar(x=extat.index,y=extat.values,name=\"Extra run come from\"),row=2,col=1)\n",
    "fig.add_trace(go.Bar(y=extar.values,x=extar.index,name=\"Extra type\"),row=2,col=2)\n",
    "fig.update_layout(height=700,width=900)\n",
    "fig.show()\n"
   ]
  },
  {
   "cell_type": "markdown",
   "id": "27a36550",
   "metadata": {},
   "source": [
    "Observation:\n",
    "    Most extra run given as wides ball and most run comes from single run.\n",
    "    highest wicket taken in last over  and most of the dismissal are as caught out."
   ]
  },
  {
   "cell_type": "markdown",
   "id": "98b377fb",
   "metadata": {},
   "source": [
    "#### Exploring Batsman and bat_run Feature"
   ]
  },
  {
   "cell_type": "code",
   "execution_count": 14,
   "id": "7ece890b",
   "metadata": {},
   "outputs": [
    {
     "data": {
      "text/plain": [
       "605"
      ]
     },
     "execution_count": 14,
     "metadata": {},
     "output_type": "execute_result"
    }
   ],
   "source": [
    "ipl_data_1.batsman.nunique()"
   ]
  },
  {
   "cell_type": "code",
   "execution_count": 15,
   "id": "c784e00b",
   "metadata": {},
   "outputs": [
    {
     "data": {
      "image/png": "[encoded data removed]",
      "text/plain": [
       "<Figure size 432x288 with 1 Axes>"
      ]
     },
     "metadata": {
      "needs_background": "light"
     },
     "output_type": "display_data"
    }
   ],
   "source": [
    "topbats = ipl_data_1.groupby(\"batsman\").sum()[\"bat_runs\"].sort_values(ascending=False).head(5)\n",
    "\n",
    "top5batsman = ipl_data_1.loc[ipl_data_1[\"batsman\"].isin(topbats.index)]\n",
    "\n",
    "top5batsman = top5batsman.groupby([\"batsman\",'innings']).sum()\n",
    "\n",
    "top5batsman = top5batsman.reset_index()\n",
    "\n",
    "\n",
    "sns.barplot(x=\"batsman\", y=\"bat_runs\", hue=\"innings\", data=top5batsman)\n",
    "\n",
    "\n",
    "plt.title(\"Which inning scored the most of top 5 batsman \")\n",
    "plt.xlabel(\"Batsman\")\n",
    "plt.ylabel(\"Runs Scored\")\n",
    "plt.show()"
   ]
  },
  {
   "cell_type": "code",
   "execution_count": 16,
   "id": "c433af4a",
   "metadata": {},
   "outputs": [
    {
     "data": {
      "image/png": "[encoded data removed]",
      "text/plain": [
       "<Figure size 432x288 with 1 Axes>"
      ]
     },
     "metadata": {
      "needs_background": "light"
     },
     "output_type": "display_data"
    }
   ],
   "source": [
    "\n",
    "runs_by_batsman = ipl_data_1.groupby(\"batsman\").sum()[\"bat_runs\"]\n",
    "\n",
    "top_batsmen = runs_by_batsman.sort_values(ascending=False).loc[runs_by_batsman > 3000]\n",
    "\n",
    "plt.bar(top_batsmen.index, top_batsmen.values, align='center', alpha=0.5)\n",
    "plt.xticks(top_batsmen.index, rotation=90)\n",
    "plt.xlabel(\"Batsman\")\n",
    "plt.ylabel(\"Runs\")\n",
    "plt.title(\"Top Batsmen\")\n",
    "plt.show()\n"
   ]
  },
  {
   "cell_type": "code",
   "execution_count": 110,
   "id": "43f37f73",
   "metadata": {},
   "outputs": [
    {
     "name": "stderr",
     "output_type": "stream",
     "text": [
      "C:\\ProgramData\\Anaconda3\\lib\\site-packages\\plotly\\express\\_core.py:1637: FutureWarning:\n",
      "\n",
      "The frame.append method is deprecated and will be removed from pandas in a future version. Use pandas.concat instead.\n",
      "\n",
      "C:\\ProgramData\\Anaconda3\\lib\\site-packages\\plotly\\express\\_core.py:1637: FutureWarning:\n",
      "\n",
      "The frame.append method is deprecated and will be removed from pandas in a future version. Use pandas.concat instead.\n",
      "\n"
     ]
    },
    {
     "data": {
      "application/vnd.plotly.v1+json": {
       "config": {
        "plotlyServerURL": "https://plot.ly"
       },
       "data": [
        {
         "branchvalues": "total",
         "domain": {
          "x": [
           0,
           1
          ],
          "y": [
           0,
           1
          ]
         },
         "hovertemplate": "labels=%{label}<br>is_wicket=%{value}<br>parent=%{parent}<br>id=%{id}<extra></extra>",
         "ids": [
          "DA Warner/bowled",
          "RG Sharma/bowled",
          "S Dhawan/bowled",
          "SK Raina/bowled",
          "V Kohli/bowled",
          "DA Warner/caught",
          "RG Sharma/caught",
          "S Dhawan/caught",
          "SK Raina/caught",
          "V Kohli/caught",
          "DA Warner/caught and bowled",
          "RG Sharma/caught and bowled",
          "S Dhawan/caught and bowled",
          "SK Raina/caught and bowled",
          "V Kohli/caught and bowled",
          "DA Warner/hit wicket",
          "DA Warner/lbw",
          "RG Sharma/lbw",
          "S Dhawan/lbw",
          "SK Raina/lbw",
          "V Kohli/lbw",
          "S Dhawan/retired hurt",
          "DA Warner/run out",
          "RG Sharma/run out",
          "S Dhawan/run out",
          "SK Raina/run out",
          "V Kohli/run out",
          "DA Warner/stumped",
          "RG Sharma/stumped",
          "S Dhawan/stumped",
          "SK Raina/stumped",
          "V Kohli/stumped",
          "DA Warner",
          "RG Sharma",
          "S Dhawan",
          "SK Raina",
          "V Kohli"
         ],
         "labels": [
          "bowled",
          "bowled",
          "bowled",
          "bowled",
          "bowled",
          "caught",
          "caught",
          "caught",
          "caught",
          "caught",
          "caught and bowled",
          "caught and bowled",
          "caught and bowled",
          "caught and bowled",
          "caught and bowled",
          "hit wicket",
          "lbw",
          "lbw",
          "lbw",
          "lbw",
          "lbw",
          "retired hurt",
          "run out",
          "run out",
          "run out",
          "run out",
          "run out",
          "stumped",
          "stumped",
          "stumped",
          "stumped",
          "stumped",
          "DA Warner",
          "RG Sharma",
          "S Dhawan",
          "SK Raina",
          "V Kohli"
         ],
         "name": "",
         "parents": [
          "DA Warner",
          "RG Sharma",
          "S Dhawan",
          "SK Raina",
          "V Kohli",
          "DA Warner",
          "RG Sharma",
          "S Dhawan",
          "SK Raina",
          "V Kohli",
          "DA Warner",
          "RG Sharma",
          "S Dhawan",
          "SK Raina",
          "V Kohli",
          "DA Warner",
          "DA Warner",
          "RG Sharma",
          "S Dhawan",
          "SK Raina",
          "V Kohli",
          "S Dhawan",
          "DA Warner",
          "RG Sharma",
          "S Dhawan",
          "SK Raina",
          "V Kohli",
          "DA Warner",
          "RG Sharma",
          "S Dhawan",
          "SK Raina",
          "V Kohli",
          "",
          "",
          "",
          "",
          ""
         ],
         "type": "sunburst",
         "values": [
          25,
          24,
          37,
          16,
          36,
          90,
          135,
          104,
          115,
          120,
          4,
          8,
          3,
          9,
          3,
          1,
          6,
          13,
          12,
          7,
          11,
          1,
          4,
          9,
          10,
          6,
          7,
          5,
          3,
          6,
          8,
          4,
          135,
          192,
          173,
          161,
          181
         ]
        }
       ],
       "layout": {
        "height": 700,
        "legend": {
         "tracegroupgap": 0
        },
        "margin": {
         "t": 60
        },
        "template": {
         "data": {
          "bar": [
           {
            "error_x": {
             "color": "#2a3f5f"
            },
            "error_y": {
             "color": "#2a3f5f"
            },
            "marker": {
             "line": {
              "color": "#E5ECF6",
              "width": 0.5
             },
             "pattern": {
              "fillmode": "overlay",
              "size": 10,
              "solidity": 0.2
             }
            },
            "type": "bar"
           }
          ],
          "barpolar": [
           {
            "marker": {
             "line": {
              "color": "#E5ECF6",
              "width": 0.5
             },
             "pattern": {
              "fillmode": "overlay",
              "size": 10,
              "solidity": 0.2
             }
            },
            "type": "barpolar"
           }
          ],
          "carpet": [
           {
            "aaxis": {
             "endlinecolor": "#2a3f5f",
             "gridcolor": "white",
             "linecolor": "white",
             "minorgridcolor": "white",
             "startlinecolor": "#2a3f5f"
            },
            "baxis": {
             "endlinecolor": "#2a3f5f",
             "gridcolor": "white",
             "linecolor": "white",
             "minorgridcolor": "white",
             "startlinecolor": "#2a3f5f"
            },
            "type": "carpet"
           }
          ],
          "choropleth": [
           {
            "colorbar": {
             "outlinewidth": 0,
             "ticks": ""
            },
            "type": "choropleth"
           }
          ],
          "contour": [
           {
            "colorbar": {
             "outlinewidth": 0,
             "ticks": ""
            },
            "colorscale": [
             [
              0,
              "#0d0887"
             ],
             [
              0.1111111111111111,
              "#46039f"
             ],
             [
              0.2222222222222222,
              "#7201a8"
             ],
             [
              0.3333333333333333,
              "#9c179e"
             ],
             [
              0.4444444444444444,
              "#bd3786"
             ],
             [
              0.5555555555555556,
              "#d8576b"
             ],
             [
              0.6666666666666666,
              "#ed7953"
             ],
             [
              0.7777777777777778,
              "#fb9f3a"
             ],
             [
              0.8888888888888888,
              "#fdca26"
             ],
             [
              1,
              "#f0f921"
             ]
            ],
            "type": "contour"
           }
          ],
          "contourcarpet": [
           {
            "colorbar": {
             "outlinewidth": 0,
             "ticks": ""
            },
            "type": "contourcarpet"
           }
          ],
          "heatmap": [
           {
            "colorbar": {
             "outlinewidth": 0,
             "ticks": ""
            },
            "colorscale": [
             [
              0,
              "#0d0887"
             ],
             [
              0.1111111111111111,
              "#46039f"
             ],
             [
              0.2222222222222222,
              "#7201a8"
             ],
             [
              0.3333333333333333,
              "#9c179e"
             ],
             [
              0.4444444444444444,
              "#bd3786"
             ],
             [
              0.5555555555555556,
              "#d8576b"
             ],
             [
              0.6666666666666666,
              "#ed7953"
             ],
             [
              0.7777777777777778,
              "#fb9f3a"
             ],
             [
              0.8888888888888888,
              "#fdca26"
             ],
             [
              1,
              "#f0f921"
             ]
            ],
            "type": "heatmap"
           }
          ],
          "heatmapgl": [
           {
            "colorbar": {
             "outlinewidth": 0,
             "ticks": ""
            },
            "colorscale": [
             [
              0,
              "#0d0887"
             ],
             [
              0.1111111111111111,
              "#46039f"
             ],
             [
              0.2222222222222222,
              "#7201a8"
             ],
             [
              0.3333333333333333,
              "#9c179e"
             ],
             [
              0.4444444444444444,
              "#bd3786"
             ],
             [
              0.5555555555555556,
              "#d8576b"
             ],
             [
              0.6666666666666666,
              "#ed7953"
             ],
             [
              0.7777777777777778,
              "#fb9f3a"
             ],
             [
              0.8888888888888888,
              "#fdca26"
             ],
             [
              1,
              "#f0f921"
             ]
            ],
            "type": "heatmapgl"
           }
          ],
          "histogram": [
           {
            "marker": {
             "pattern": {
              "fillmode": "overlay",
              "size": 10,
              "solidity": 0.2
             }
            },
            "type": "histogram"
           }
          ],
          "histogram2d": [
           {
            "colorbar": {
             "outlinewidth": 0,
             "ticks": ""
            },
            "colorscale": [
             [
              0,
              "#0d0887"
             ],
             [
              0.1111111111111111,
              "#46039f"
             ],
             [
              0.2222222222222222,
              "#7201a8"
             ],
             [
              0.3333333333333333,
              "#9c179e"
             ],
             [
              0.4444444444444444,
              "#bd3786"
             ],
             [
              0.5555555555555556,
              "#d8576b"
             ],
             [
              0.6666666666666666,
              "#ed7953"
             ],
             [
              0.7777777777777778,
              "#fb9f3a"
             ],
             [
              0.8888888888888888,
              "#fdca26"
             ],
             [
              1,
              "#f0f921"
             ]
            ],
            "type": "histogram2d"
           }
          ],
          "histogram2dcontour": [
           {
            "colorbar": {
             "outlinewidth": 0,
             "ticks": ""
            },
            "colorscale": [
             [
              0,
              "#0d0887"
             ],
             [
              0.1111111111111111,
              "#46039f"
             ],
             [
              0.2222222222222222,
              "#7201a8"
             ],
             [
              0.3333333333333333,
              "#9c179e"
             ],
             [
              0.4444444444444444,
              "#bd3786"
             ],
             [
              0.5555555555555556,
              "#d8576b"
             ],
             [
              0.6666666666666666,
              "#ed7953"
             ],
             [
              0.7777777777777778,
              "#fb9f3a"
             ],
             [
              0.8888888888888888,
              "#fdca26"
             ],
             [
              1,
              "#f0f921"
             ]
            ],
            "type": "histogram2dcontour"
           }
          ],
          "mesh3d": [
           {
            "colorbar": {
             "outlinewidth": 0,
             "ticks": ""
            },
            "type": "mesh3d"
           }
          ],
          "parcoords": [
           {
            "line": {
             "colorbar": {
              "outlinewidth": 0,
              "ticks": ""
             }
            },
            "type": "parcoords"
           }
          ],
          "pie": [
           {
            "automargin": true,
            "type": "pie"
           }
          ],
          "scatter": [
           {
            "marker": {
             "colorbar": {
              "outlinewidth": 0,
              "ticks": ""
             }
            },
            "type": "scatter"
           }
          ],
          "scatter3d": [
           {
            "line": {
             "colorbar": {
              "outlinewidth": 0,
              "ticks": ""
             }
            },
            "marker": {
             "colorbar": {
              "outlinewidth": 0,
              "ticks": ""
             }
            },
            "type": "scatter3d"
           }
          ],
          "scattercarpet": [
           {
            "marker": {
             "colorbar": {
              "outlinewidth": 0,
              "ticks": ""
             }
            },
            "type": "scattercarpet"
           }
          ],
          "scattergeo": [
           {
            "marker": {
             "colorbar": {
              "outlinewidth": 0,
              "ticks": ""
             }
            },
            "type": "scattergeo"
           }
          ],
          "scattergl": [
           {
            "marker": {
             "colorbar": {
              "outlinewidth": 0,
              "ticks": ""
             }
            },
            "type": "scattergl"
           }
          ],
          "scattermapbox": [
           {
            "marker": {
             "colorbar": {
              "outlinewidth": 0,
              "ticks": ""
             }
            },
            "type": "scattermapbox"
           }
          ],
          "scatterpolar": [
           {
            "marker": {
             "colorbar": {
              "outlinewidth": 0,
              "ticks": ""
             }
            },
            "type": "scatterpolar"
           }
          ],
          "scatterpolargl": [
           {
            "marker": {
             "colorbar": {
              "outlinewidth": 0,
              "ticks": ""
             }
            },
            "type": "scatterpolargl"
           }
          ],
          "scatterternary": [
           {
            "marker": {
             "colorbar": {
              "outlinewidth": 0,
              "ticks": ""
             }
            },
            "type": "scatterternary"
           }
          ],
          "surface": [
           {
            "colorbar": {
             "outlinewidth": 0,
             "ticks": ""
            },
            "colorscale": [
             [
              0,
              "#0d0887"
             ],
             [
              0.1111111111111111,
              "#46039f"
             ],
             [
              0.2222222222222222,
              "#7201a8"
             ],
             [
              0.3333333333333333,
              "#9c179e"
             ],
             [
              0.4444444444444444,
              "#bd3786"
             ],
             [
              0.5555555555555556,
              "#d8576b"
             ],
             [
              0.6666666666666666,
              "#ed7953"
             ],
             [
              0.7777777777777778,
              "#fb9f3a"
             ],
             [
              0.8888888888888888,
              "#fdca26"
             ],
             [
              1,
              "#f0f921"
             ]
            ],
            "type": "surface"
           }
          ],
          "table": [
           {
            "cells": {
             "fill": {
              "color": "#EBF0F8"
             },
             "line": {
              "color": "white"
             }
            },
            "header": {
             "fill": {
              "color": "#C8D4E3"
             },
             "line": {
              "color": "white"
             }
            },
            "type": "table"
           }
          ]
         },
         "layout": {
          "annotationdefaults": {
           "arrowcolor": "#2a3f5f",
           "arrowhead": 0,
           "arrowwidth": 1
          },
          "autotypenumbers": "strict",
          "coloraxis": {
           "colorbar": {
            "outlinewidth": 0,
            "ticks": ""
           }
          },
          "colorscale": {
           "diverging": [
            [
             0,
             "#8e0152"
            ],
            [
             0.1,
             "#c51b7d"
            ],
            [
             0.2,
             "#de77ae"
            ],
            [
             0.3,
             "#f1b6da"
            ],
            [
             0.4,
             "#fde0ef"
            ],
            [
             0.5,
             "#f7f7f7"
            ],
            [
             0.6,
             "#e6f5d0"
            ],
            [
             0.7,
             "#b8e186"
            ],
            [
             0.8,
             "#7fbc41"
            ],
            [
             0.9,
             "#4d9221"
            ],
            [
             1,
             "#276419"
            ]
           ],
           "sequential": [
            [
             0,
             "#0d0887"
            ],
            [
             0.1111111111111111,
             "#46039f"
            ],
            [
             0.2222222222222222,
             "#7201a8"
            ],
            [
             0.3333333333333333,
             "#9c179e"
            ],
            [
             0.4444444444444444,
             "#bd3786"
            ],
            [
             0.5555555555555556,
             "#d8576b"
            ],
            [
             0.6666666666666666,
             "#ed7953"
            ],
            [
             0.7777777777777778,
             "#fb9f3a"
            ],
            [
             0.8888888888888888,
             "#fdca26"
            ],
            [
             1,
             "#f0f921"
            ]
           ],
           "sequentialminus": [
            [
             0,
             "#0d0887"
            ],
            [
             0.1111111111111111,
             "#46039f"
            ],
            [
             0.2222222222222222,
             "#7201a8"
            ],
            [
             0.3333333333333333,
             "#9c179e"
            ],
            [
             0.4444444444444444,
             "#bd3786"
            ],
            [
             0.5555555555555556,
             "#d8576b"
            ],
            [
             0.6666666666666666,
             "#ed7953"
            ],
            [
             0.7777777777777778,
             "#fb9f3a"
            ],
            [
             0.8888888888888888,
             "#fdca26"
            ],
            [
             1,
             "#f0f921"
            ]
           ]
          },
          "colorway": [
           "#636efa",
           "#EF553B",
           "#00cc96",
           "#ab63fa",
           "#FFA15A",
           "#19d3f3",
           "#FF6692",
           "#B6E880",
           "#FF97FF",
           "#FECB52"
          ],
          "font": {
           "color": "#2a3f5f"
          },
          "geo": {
           "bgcolor": "white",
           "lakecolor": "white",
           "landcolor": "#E5ECF6",
           "showlakes": true,
           "showland": true,
           "subunitcolor": "white"
          },
          "hoverlabel": {
           "align": "left"
          },
          "hovermode": "closest",
          "mapbox": {
           "style": "light"
          },
          "paper_bgcolor": "white",
          "plot_bgcolor": "#E5ECF6",
          "polar": {
           "angularaxis": {
            "gridcolor": "white",
            "linecolor": "white",
            "ticks": ""
           },
           "bgcolor": "#E5ECF6",
           "radialaxis": {
            "gridcolor": "white",
            "linecolor": "white",
            "ticks": ""
           }
          },
          "scene": {
           "xaxis": {
            "backgroundcolor": "#E5ECF6",
            "gridcolor": "white",
            "gridwidth": 2,
            "linecolor": "white",
            "showbackground": true,
            "ticks": "",
            "zerolinecolor": "white"
           },
           "yaxis": {
            "backgroundcolor": "#E5ECF6",
            "gridcolor": "white",
            "gridwidth": 2,
            "linecolor": "white",
            "showbackground": true,
            "ticks": "",
            "zerolinecolor": "white"
           },
           "zaxis": {
            "backgroundcolor": "#E5ECF6",
            "gridcolor": "white",
            "gridwidth": 2,
            "linecolor": "white",
            "showbackground": true,
            "ticks": "",
            "zerolinecolor": "white"
           }
          },
          "shapedefaults": {
           "line": {
            "color": "#2a3f5f"
           }
          },
          "ternary": {
           "aaxis": {
            "gridcolor": "white",
            "linecolor": "white",
            "ticks": ""
           },
           "baxis": {
            "gridcolor": "white",
            "linecolor": "white",
            "ticks": ""
           },
           "bgcolor": "#E5ECF6",
           "caxis": {
            "gridcolor": "white",
            "linecolor": "white",
            "ticks": ""
           }
          },
          "title": {
           "x": 0.05
          },
          "xaxis": {
           "automargin": true,
           "gridcolor": "white",
           "linecolor": "white",
           "ticks": "",
           "title": {
            "standoff": 15
           },
           "zerolinecolor": "white",
           "zerolinewidth": 2
          },
          "yaxis": {
           "automargin": true,
           "gridcolor": "white",
           "linecolor": "white",
           "ticks": "",
           "title": {
            "standoff": 15
           },
           "zerolinecolor": "white",
           "zerolinewidth": 2
          }
         }
        },
        "title": {
         "text": "Top 5 Batsmen How They 'OUT' Most"
        }
       }
      },
      "text/html": [
       "<div>                            <div id=\"c2cc4d1a-5e1f-4f95-b402-1416b49dcbf5\" class=\"plotly-graph-div\" style=\"height:700px; width:100%;\"></div>            <script type=\"text/javascript\">                require([\"plotly\"], function(Plotly) {                    window.PLOTLYENV=window.PLOTLYENV || {};                                    if (document.getElementById(\"c2cc4d1a-5e1f-4f95-b402-1416b49dcbf5\")) {                    Plotly.newPlot(                        \"c2cc4d1a-5e1f-4f95-b402-1416b49dcbf5\",                        [{\"branchvalues\":\"total\",\"domain\":{\"x\":[0.0,1.0],\"y\":[0.0,1.0]},\"hovertemplate\":\"labels=%{label}<br>is_wicket=%{value}<br>parent=%{parent}<br>id=%{id}<extra></extra>\",\"ids\":[\"DA Warner/bowled\",\"RG Sharma/bowled\",\"S Dhawan/bowled\",\"SK Raina/bowled\",\"V Kohli/bowled\",\"DA Warner/caught\",\"RG Sharma/caught\",\"S Dhawan/caught\",\"SK Raina/caught\",\"V Kohli/caught\",\"DA Warner/caught and bowled\",\"RG Sharma/caught and bowled\",\"S Dhawan/caught and bowled\",\"SK Raina/caught and bowled\",\"V Kohli/caught and bowled\",\"DA Warner/hit wicket\",\"DA Warner/lbw\",\"RG Sharma/lbw\",\"S Dhawan/lbw\",\"SK Raina/lbw\",\"V Kohli/lbw\",\"S Dhawan/retired hurt\",\"DA Warner/run out\",\"RG Sharma/run out\",\"S Dhawan/run out\",\"SK Raina/run out\",\"V Kohli/run out\",\"DA Warner/stumped\",\"RG Sharma/stumped\",\"S Dhawan/stumped\",\"SK Raina/stumped\",\"V Kohli/stumped\",\"DA Warner\",\"RG Sharma\",\"S Dhawan\",\"SK Raina\",\"V Kohli\"],\"labels\":[\"bowled\",\"bowled\",\"bowled\",\"bowled\",\"bowled\",\"caught\",\"caught\",\"caught\",\"caught\",\"caught\",\"caught and bowled\",\"caught and bowled\",\"caught and bowled\",\"caught and bowled\",\"caught and bowled\",\"hit wicket\",\"lbw\",\"lbw\",\"lbw\",\"lbw\",\"lbw\",\"retired hurt\",\"run out\",\"run out\",\"run out\",\"run out\",\"run out\",\"stumped\",\"stumped\",\"stumped\",\"stumped\",\"stumped\",\"DA Warner\",\"RG Sharma\",\"S Dhawan\",\"SK Raina\",\"V Kohli\"],\"name\":\"\",\"parents\":[\"DA Warner\",\"RG Sharma\",\"S Dhawan\",\"SK Raina\",\"V Kohli\",\"DA Warner\",\"RG Sharma\",\"S Dhawan\",\"SK Raina\",\"V Kohli\",\"DA Warner\",\"RG Sharma\",\"S Dhawan\",\"SK Raina\",\"V Kohli\",\"DA Warner\",\"DA Warner\",\"RG Sharma\",\"S Dhawan\",\"SK Raina\",\"V Kohli\",\"S Dhawan\",\"DA Warner\",\"RG Sharma\",\"S Dhawan\",\"SK Raina\",\"V Kohli\",\"DA Warner\",\"RG Sharma\",\"S Dhawan\",\"SK Raina\",\"V Kohli\",\"\",\"\",\"\",\"\",\"\"],\"values\":[25,24,37,16,36,90,135,104,115,120,4,8,3,9,3,1,6,13,12,7,11,1,4,9,10,6,7,5,3,6,8,4,135,192,173,161,181],\"type\":\"sunburst\"}],                        {\"template\":{\"data\":{\"bar\":[{\"error_x\":{\"color\":\"#2a3f5f\"},\"error_y\":{\"color\":\"#2a3f5f\"},\"marker\":{\"line\":{\"color\":\"#E5ECF6\",\"width\":0.5},\"pattern\":{\"fillmode\":\"overlay\",\"size\":10,\"solidity\":0.2}},\"type\":\"bar\"}],\"barpolar\":[{\"marker\":{\"line\":{\"color\":\"#E5ECF6\",\"width\":0.5},\"pattern\":{\"fillmode\":\"overlay\",\"size\":10,\"solidity\":0.2}},\"type\":\"barpolar\"}],\"carpet\":[{\"aaxis\":{\"endlinecolor\":\"#2a3f5f\",\"gridcolor\":\"white\",\"linecolor\":\"white\",\"minorgridcolor\":\"white\",\"startlinecolor\":\"#2a3f5f\"},\"baxis\":{\"endlinecolor\":\"#2a3f5f\",\"gridcolor\":\"white\",\"linecolor\":\"white\",\"minorgridcolor\":\"white\",\"startlinecolor\":\"#2a3f5f\"},\"type\":\"carpet\"}],\"choropleth\":[{\"colorbar\":{\"outlinewidth\":0,\"ticks\":\"\"},\"type\":\"choropleth\"}],\"contour\":[{\"colorbar\":{\"outlinewidth\":0,\"ticks\":\"\"},\"colorscale\":[[0.0,\"#0d0887\"],[0.1111111111111111,\"#46039f\"],[0.2222222222222222,\"#7201a8\"],[0.3333333333333333,\"#9c179e\"],[0.4444444444444444,\"#bd3786\"],[0.5555555555555556,\"#d8576b\"],[0.6666666666666666,\"#ed7953\"],[0.7777777777777778,\"#fb9f3a\"],[0.8888888888888888,\"#fdca26\"],[1.0,\"#f0f921\"]],\"type\":\"contour\"}],\"contourcarpet\":[{\"colorbar\":{\"outlinewidth\":0,\"ticks\":\"\"},\"type\":\"contourcarpet\"}],\"heatmap\":[{\"colorbar\":{\"outlinewidth\":0,\"ticks\":\"\"},\"colorscale\":[[0.0,\"#0d0887\"],[0.1111111111111111,\"#46039f\"],[0.2222222222222222,\"#7201a8\"],[0.3333333333333333,\"#9c179e\"],[0.4444444444444444,\"#bd3786\"],[0.5555555555555556,\"#d8576b\"],[0.6666666666666666,\"#ed7953\"],[0.7777777777777778,\"#fb9f3a\"],[0.8888888888888888,\"#fdca26\"],[1.0,\"#f0f921\"]],\"type\":\"heatmap\"}],\"heatmapgl\":[{\"colorbar\":{\"outlinewidth\":0,\"ticks\":\"\"},\"colorscale\":[[0.0,\"#0d0887\"],[0.1111111111111111,\"#46039f\"],[0.2222222222222222,\"#7201a8\"],[0.3333333333333333,\"#9c179e\"],[0.4444444444444444,\"#bd3786\"],[0.5555555555555556,\"#d8576b\"],[0.6666666666666666,\"#ed7953\"],[0.7777777777777778,\"#fb9f3a\"],[0.8888888888888888,\"#fdca26\"],[1.0,\"#f0f921\"]],\"type\":\"heatmapgl\"}],\"histogram\":[{\"marker\":{\"pattern\":{\"fillmode\":\"overlay\",\"size\":10,\"solidity\":0.2}},\"type\":\"histogram\"}],\"histogram2d\":[{\"colorbar\":{\"outlinewidth\":0,\"ticks\":\"\"},\"colorscale\":[[0.0,\"#0d0887\"],[0.1111111111111111,\"#46039f\"],[0.2222222222222222,\"#7201a8\"],[0.3333333333333333,\"#9c179e\"],[0.4444444444444444,\"#bd3786\"],[0.5555555555555556,\"#d8576b\"],[0.6666666666666666,\"#ed7953\"],[0.7777777777777778,\"#fb9f3a\"],[0.8888888888888888,\"#fdca26\"],[1.0,\"#f0f921\"]],\"type\":\"histogram2d\"}],\"histogram2dcontour\":[{\"colorbar\":{\"outlinewidth\":0,\"ticks\":\"\"},\"colorscale\":[[0.0,\"#0d0887\"],[0.1111111111111111,\"#46039f\"],[0.2222222222222222,\"#7201a8\"],[0.3333333333333333,\"#9c179e\"],[0.4444444444444444,\"#bd3786\"],[0.5555555555555556,\"#d8576b\"],[0.6666666666666666,\"#ed7953\"],[0.7777777777777778,\"#fb9f3a\"],[0.8888888888888888,\"#fdca26\"],[1.0,\"#f0f921\"]],\"type\":\"histogram2dcontour\"}],\"mesh3d\":[{\"colorbar\":{\"outlinewidth\":0,\"ticks\":\"\"},\"type\":\"mesh3d\"}],\"parcoords\":[{\"line\":{\"colorbar\":{\"outlinewidth\":0,\"ticks\":\"\"}},\"type\":\"parcoords\"}],\"pie\":[{\"automargin\":true,\"type\":\"pie\"}],\"scatter\":[{\"marker\":{\"colorbar\":{\"outlinewidth\":0,\"ticks\":\"\"}},\"type\":\"scatter\"}],\"scatter3d\":[{\"line\":{\"colorbar\":{\"outlinewidth\":0,\"ticks\":\"\"}},\"marker\":{\"colorbar\":{\"outlinewidth\":0,\"ticks\":\"\"}},\"type\":\"scatter3d\"}],\"scattercarpet\":[{\"marker\":{\"colorbar\":{\"outlinewidth\":0,\"ticks\":\"\"}},\"type\":\"scattercarpet\"}],\"scattergeo\":[{\"marker\":{\"colorbar\":{\"outlinewidth\":0,\"ticks\":\"\"}},\"type\":\"scattergeo\"}],\"scattergl\":[{\"marker\":{\"colorbar\":{\"outlinewidth\":0,\"ticks\":\"\"}},\"type\":\"scattergl\"}],\"scattermapbox\":[{\"marker\":{\"colorbar\":{\"outlinewidth\":0,\"ticks\":\"\"}},\"type\":\"scattermapbox\"}],\"scatterpolar\":[{\"marker\":{\"colorbar\":{\"outlinewidth\":0,\"ticks\":\"\"}},\"type\":\"scatterpolar\"}],\"scatterpolargl\":[{\"marker\":{\"colorbar\":{\"outlinewidth\":0,\"ticks\":\"\"}},\"type\":\"scatterpolargl\"}],\"scatterternary\":[{\"marker\":{\"colorbar\":{\"outlinewidth\":0,\"ticks\":\"\"}},\"type\":\"scatterternary\"}],\"surface\":[{\"colorbar\":{\"outlinewidth\":0,\"ticks\":\"\"},\"colorscale\":[[0.0,\"#0d0887\"],[0.1111111111111111,\"#46039f\"],[0.2222222222222222,\"#7201a8\"],[0.3333333333333333,\"#9c179e\"],[0.4444444444444444,\"#bd3786\"],[0.5555555555555556,\"#d8576b\"],[0.6666666666666666,\"#ed7953\"],[0.7777777777777778,\"#fb9f3a\"],[0.8888888888888888,\"#fdca26\"],[1.0,\"#f0f921\"]],\"type\":\"surface\"}],\"table\":[{\"cells\":{\"fill\":{\"color\":\"#EBF0F8\"},\"line\":{\"color\":\"white\"}},\"header\":{\"fill\":{\"color\":\"#C8D4E3\"},\"line\":{\"color\":\"white\"}},\"type\":\"table\"}]},\"layout\":{\"annotationdefaults\":{\"arrowcolor\":\"#2a3f5f\",\"arrowhead\":0,\"arrowwidth\":1},\"autotypenumbers\":\"strict\",\"coloraxis\":{\"colorbar\":{\"outlinewidth\":0,\"ticks\":\"\"}},\"colorscale\":{\"diverging\":[[0,\"#8e0152\"],[0.1,\"#c51b7d\"],[0.2,\"#de77ae\"],[0.3,\"#f1b6da\"],[0.4,\"#fde0ef\"],[0.5,\"#f7f7f7\"],[0.6,\"#e6f5d0\"],[0.7,\"#b8e186\"],[0.8,\"#7fbc41\"],[0.9,\"#4d9221\"],[1,\"#276419\"]],\"sequential\":[[0.0,\"#0d0887\"],[0.1111111111111111,\"#46039f\"],[0.2222222222222222,\"#7201a8\"],[0.3333333333333333,\"#9c179e\"],[0.4444444444444444,\"#bd3786\"],[0.5555555555555556,\"#d8576b\"],[0.6666666666666666,\"#ed7953\"],[0.7777777777777778,\"#fb9f3a\"],[0.8888888888888888,\"#fdca26\"],[1.0,\"#f0f921\"]],\"sequentialminus\":[[0.0,\"#0d0887\"],[0.1111111111111111,\"#46039f\"],[0.2222222222222222,\"#7201a8\"],[0.3333333333333333,\"#9c179e\"],[0.4444444444444444,\"#bd3786\"],[0.5555555555555556,\"#d8576b\"],[0.6666666666666666,\"#ed7953\"],[0.7777777777777778,\"#fb9f3a\"],[0.8888888888888888,\"#fdca26\"],[1.0,\"#f0f921\"]]},\"colorway\":[\"#636efa\",\"#EF553B\",\"#00cc96\",\"#ab63fa\",\"#FFA15A\",\"#19d3f3\",\"#FF6692\",\"#B6E880\",\"#FF97FF\",\"#FECB52\"],\"font\":{\"color\":\"#2a3f5f\"},\"geo\":{\"bgcolor\":\"white\",\"lakecolor\":\"white\",\"landcolor\":\"#E5ECF6\",\"showlakes\":true,\"showland\":true,\"subunitcolor\":\"white\"},\"hoverlabel\":{\"align\":\"left\"},\"hovermode\":\"closest\",\"mapbox\":{\"style\":\"light\"},\"paper_bgcolor\":\"white\",\"plot_bgcolor\":\"#E5ECF6\",\"polar\":{\"angularaxis\":{\"gridcolor\":\"white\",\"linecolor\":\"white\",\"ticks\":\"\"},\"bgcolor\":\"#E5ECF6\",\"radialaxis\":{\"gridcolor\":\"white\",\"linecolor\":\"white\",\"ticks\":\"\"}},\"scene\":{\"xaxis\":{\"backgroundcolor\":\"#E5ECF6\",\"gridcolor\":\"white\",\"gridwidth\":2,\"linecolor\":\"white\",\"showbackground\":true,\"ticks\":\"\",\"zerolinecolor\":\"white\"},\"yaxis\":{\"backgroundcolor\":\"#E5ECF6\",\"gridcolor\":\"white\",\"gridwidth\":2,\"linecolor\":\"white\",\"showbackground\":true,\"ticks\":\"\",\"zerolinecolor\":\"white\"},\"zaxis\":{\"backgroundcolor\":\"#E5ECF6\",\"gridcolor\":\"white\",\"gridwidth\":2,\"linecolor\":\"white\",\"showbackground\":true,\"ticks\":\"\",\"zerolinecolor\":\"white\"}},\"shapedefaults\":{\"line\":{\"color\":\"#2a3f5f\"}},\"ternary\":{\"aaxis\":{\"gridcolor\":\"white\",\"linecolor\":\"white\",\"ticks\":\"\"},\"baxis\":{\"gridcolor\":\"white\",\"linecolor\":\"white\",\"ticks\":\"\"},\"bgcolor\":\"#E5ECF6\",\"caxis\":{\"gridcolor\":\"white\",\"linecolor\":\"white\",\"ticks\":\"\"}},\"title\":{\"x\":0.05},\"xaxis\":{\"automargin\":true,\"gridcolor\":\"white\",\"linecolor\":\"white\",\"ticks\":\"\",\"title\":{\"standoff\":15},\"zerolinecolor\":\"white\",\"zerolinewidth\":2},\"yaxis\":{\"automargin\":true,\"gridcolor\":\"white\",\"linecolor\":\"white\",\"ticks\":\"\",\"title\":{\"standoff\":15},\"zerolinecolor\":\"white\",\"zerolinewidth\":2}}},\"legend\":{\"tracegroupgap\":0},\"margin\":{\"t\":60},\"height\":700,\"title\":{\"text\":\"Top 5 Batsmen How They 'OUT' Most\"}},                        {\"responsive\": true}                    ).then(function(){\n",
       "                            \n",
       "var gd = document.getElementById('c2cc4d1a-5e1f-4f95-b402-1416b49dcbf5');\n",
       "var x = new MutationObserver(function (mutations, observer) {{\n",
       "        var display = window.getComputedStyle(gd).display;\n",
       "        if (!display || display === 'none') {{\n",
       "            console.log([gd, 'removed!']);\n",
       "            Plotly.purge(gd);\n",
       "            observer.disconnect();\n",
       "        }}\n",
       "}});\n",
       "\n",
       "// Listen for the removal of the full notebook cells\n",
       "var notebookContainer = gd.closest('#notebook-container');\n",
       "if (notebookContainer) {{\n",
       "    x.observe(notebookContainer, {childList: true});\n",
       "}}\n",
       "\n",
       "// Listen for the clearing of the current output cell\n",
       "var outputEl = gd.closest('.output');\n",
       "if (outputEl) {{\n",
       "    x.observe(outputEl, {childList: true});\n",
       "}}\n",
       "\n",
       "                        })                };                });            </script>        </div>"
      ]
     },
     "metadata": {},
     "output_type": "display_data"
    }
   ],
   "source": [
    "\n",
    "top_batsman = ipl_data_2.groupby(\"batsman\").sum()[\"bat_runs\"].sort_values(ascending=False).head(5).index\n",
    "df = ipl_data_2[(ipl_data_2['batsman'].isin(top_batsman)) & (ipl_data_2[\"batsman\"]==ipl_data_2['player_dismissed'])]\n",
    "fig = px.sunburst(df, path=['batsman', 'wicket_type'], values='is_wicket')\n",
    "fig.update_layout(height=700,title=\"Top 5 Batsmen How They 'OUT' Most\")\n",
    "fig.show()\n"
   ]
  },
  {
   "cell_type": "markdown",
   "id": "299d90b4",
   "metadata": {},
   "source": [
    "Observasion:\n",
    "    Virat kohli is highest run scorer in IPL and also score most run in both innings.\n",
    "    Rohit Sharma hits more run in 1st innings compare to 2nd innings.\n",
    "    most batsmens out as caught follwing by blowed wicket type.\n",
    "    "
   ]
  },
  {
   "cell_type": "markdown",
   "id": "a4ab252b",
   "metadata": {},
   "source": [
    "#### Exploring bowler Feature"
   ]
  },
  {
   "cell_type": "code",
   "execution_count": 102,
   "id": "1c42f2ef",
   "metadata": {},
   "outputs": [
    {
     "data": {
      "text/plain": [
       "473"
      ]
     },
     "execution_count": 102,
     "metadata": {},
     "output_type": "execute_result"
    }
   ],
   "source": [
    "ipl_data_1.bowler.nunique()"
   ]
  },
  {
   "cell_type": "code",
   "execution_count": 107,
   "id": "4a0eebfd",
   "metadata": {},
   "outputs": [
    {
     "data": {
      "image/png": "[encoded data removed]",
      "text/plain": [
       "<Figure size 432x288 with 1 Axes>"
      ]
     },
     "metadata": {},
     "output_type": "display_data"
    }
   ],
   "source": [
    "wicket_by_bowler = ipl_data_1.groupby(\"bowler\").sum()[\"is_wicket\"]\n",
    "\n",
    "top_bowler = wicket_by_bowler.sort_values(ascending=False).loc[wicket_by_bowler > 150]\n",
    "\n",
    "plt.bar(top_bowler.index, top_bowler.values, align='center', alpha=0.5)\n",
    "plt.xticks(top_bowler.index, rotation=90)\n",
    "plt.xlabel(\"bowler\")\n",
    "plt.ylabel(\"wicket\")\n",
    "plt.title(\"Top bowler\")\n",
    "plt.show()"
   ]
  },
  {
   "cell_type": "markdown",
   "id": "b3643f69",
   "metadata": {},
   "source": [
    "Observasion:\n",
    "    total 473 bowlers bowling in IPL league.\n",
    "    DJ Bravo is thie highest wicket taker bowler in IPL"
   ]
  },
  {
   "cell_type": "markdown",
   "id": "a4f4af9f",
   "metadata": {},
   "source": [
    "### explore date feature"
   ]
  },
  {
   "cell_type": "code",
   "execution_count": 24,
   "id": "854872f8",
   "metadata": {},
   "outputs": [
    {
     "name": "stderr",
     "output_type": "stream",
     "text": [
      "C:\\Users\\donda\\AppData\\Local\\Temp\\ipykernel_19276\\1402621294.py:1: SettingWithCopyWarning: \n",
      "A value is trying to be set on a copy of a slice from a DataFrame.\n",
      "Try using .loc[row_indexer,col_indexer] = value instead\n",
      "\n",
      "See the caveats in the documentation: https://pandas.pydata.org/pandas-docs/stable/user_guide/indexing.html#returning-a-view-versus-a-copy\n",
      "  ipl_data_2[\"info_Dates\"] = pd.to_datetime(ipl_data_2['info_Dates'], infer_datetime_format=True, utc=True, errors='ignore')\n"
     ]
    }
   ],
   "source": [
    "\n",
    "ipl_data_2[\"info_Dates\"] = pd.to_datetime(ipl_data_2['info_Dates'], infer_datetime_format=True, utc=True, errors='ignore')"
   ]
  },
  {
   "cell_type": "code",
   "execution_count": 25,
   "id": "a77b872b",
   "metadata": {},
   "outputs": [
    {
     "name": "stderr",
     "output_type": "stream",
     "text": [
      "C:\\Users\\donda\\AppData\\Local\\Temp\\ipykernel_19276\\585725854.py:1: SettingWithCopyWarning: \n",
      "A value is trying to be set on a copy of a slice from a DataFrame.\n",
      "Try using .loc[row_indexer,col_indexer] = value instead\n",
      "\n",
      "See the caveats in the documentation: https://pandas.pydata.org/pandas-docs/stable/user_guide/indexing.html#returning-a-view-versus-a-copy\n",
      "  ipl_data_2[\"year\"] = pd.DatetimeIndex(ipl_data_2[\"info_Dates\"]).year\n"
     ]
    }
   ],
   "source": [
    "ipl_data_2[\"year\"] = pd.DatetimeIndex(ipl_data_2[\"info_Dates\"]).year"
   ]
  },
  {
   "cell_type": "code",
   "execution_count": 26,
   "id": "e861729f",
   "metadata": {},
   "outputs": [
    {
     "data": {
      "text/html": [
       "<div>\n",
       "<style scoped>\n",
       "    .dataframe tbody tr th:only-of-type {\n",
       "        vertical-align: middle;\n",
       "    }\n",
       "\n",
       "    .dataframe tbody tr th {\n",
       "        vertical-align: top;\n",
       "    }\n",
       "\n",
       "    .dataframe thead th {\n",
       "        text-align: right;\n",
       "    }\n",
       "</style>\n",
       "<table border=\"1\" class=\"dataframe\">\n",
       "  <thead>\n",
       "    <tr style=\"text-align: right;\">\n",
       "      <th></th>\n",
       "      <th>year</th>\n",
       "      <th>matches</th>\n",
       "    </tr>\n",
       "  </thead>\n",
       "  <tbody>\n",
       "    <tr>\n",
       "      <th>0</th>\n",
       "      <td>2008</td>\n",
       "      <td>58</td>\n",
       "    </tr>\n",
       "    <tr>\n",
       "      <th>1</th>\n",
       "      <td>2009</td>\n",
       "      <td>57</td>\n",
       "    </tr>\n",
       "    <tr>\n",
       "      <th>2</th>\n",
       "      <td>2010</td>\n",
       "      <td>60</td>\n",
       "    </tr>\n",
       "    <tr>\n",
       "      <th>3</th>\n",
       "      <td>2011</td>\n",
       "      <td>73</td>\n",
       "    </tr>\n",
       "    <tr>\n",
       "      <th>4</th>\n",
       "      <td>2012</td>\n",
       "      <td>74</td>\n",
       "    </tr>\n",
       "    <tr>\n",
       "      <th>5</th>\n",
       "      <td>2013</td>\n",
       "      <td>76</td>\n",
       "    </tr>\n",
       "    <tr>\n",
       "      <th>6</th>\n",
       "      <td>2014</td>\n",
       "      <td>60</td>\n",
       "    </tr>\n",
       "    <tr>\n",
       "      <th>7</th>\n",
       "      <td>2015</td>\n",
       "      <td>59</td>\n",
       "    </tr>\n",
       "    <tr>\n",
       "      <th>8</th>\n",
       "      <td>2016</td>\n",
       "      <td>60</td>\n",
       "    </tr>\n",
       "    <tr>\n",
       "      <th>9</th>\n",
       "      <td>2017</td>\n",
       "      <td>59</td>\n",
       "    </tr>\n",
       "    <tr>\n",
       "      <th>10</th>\n",
       "      <td>2018</td>\n",
       "      <td>60</td>\n",
       "    </tr>\n",
       "    <tr>\n",
       "      <th>11</th>\n",
       "      <td>2019</td>\n",
       "      <td>60</td>\n",
       "    </tr>\n",
       "    <tr>\n",
       "      <th>12</th>\n",
       "      <td>2020</td>\n",
       "      <td>60</td>\n",
       "    </tr>\n",
       "    <tr>\n",
       "      <th>13</th>\n",
       "      <td>2021</td>\n",
       "      <td>60</td>\n",
       "    </tr>\n",
       "    <tr>\n",
       "      <th>14</th>\n",
       "      <td>2022</td>\n",
       "      <td>74</td>\n",
       "    </tr>\n",
       "  </tbody>\n",
       "</table>\n",
       "</div>"
      ],
      "text/plain": [
       "    year  matches\n",
       "0   2008       58\n",
       "1   2009       57\n",
       "2   2010       60\n",
       "3   2011       73\n",
       "4   2012       74\n",
       "5   2013       76\n",
       "6   2014       60\n",
       "7   2015       59\n",
       "8   2016       60\n",
       "9   2017       59\n",
       "10  2018       60\n",
       "11  2019       60\n",
       "12  2020       60\n",
       "13  2021       60\n",
       "14  2022       74"
      ]
     },
     "execution_count": 26,
     "metadata": {},
     "output_type": "execute_result"
    }
   ],
   "source": [
    "grouped_data = ipl_data_2.groupby([\"year\", \"match_id\"]).size().reset_index(name='count')\n",
    "match_per_season = grouped_data.groupby(['year'])['count'].count().reset_index().rename(columns={'count' : 'matches'})\n",
    "match_per_season\n",
    " "
   ]
  },
  {
   "cell_type": "markdown",
   "id": "ac8846db",
   "metadata": {},
   "source": [
    "Observasion:\n",
    "    most seasion has played 60 games and the highest matched played 76 in year of 2013."
   ]
  },
  {
   "cell_type": "markdown",
   "id": "f559e254",
   "metadata": {},
   "source": [
    "#### exploring the venue feature"
   ]
  },
  {
   "cell_type": "code",
   "execution_count": 162,
   "id": "a6eed4a1",
   "metadata": {},
   "outputs": [
    {
     "data": {
      "text/html": [
       "<div>\n",
       "<style scoped>\n",
       "    .dataframe tbody tr th:only-of-type {\n",
       "        vertical-align: middle;\n",
       "    }\n",
       "\n",
       "    .dataframe tbody tr th {\n",
       "        vertical-align: top;\n",
       "    }\n",
       "\n",
       "    .dataframe thead th {\n",
       "        text-align: right;\n",
       "    }\n",
       "</style>\n",
       "<table border=\"1\" class=\"dataframe\">\n",
       "  <thead>\n",
       "    <tr style=\"text-align: right;\">\n",
       "      <th></th>\n",
       "      <th>venue</th>\n",
       "      <th>matches</th>\n",
       "    </tr>\n",
       "  </thead>\n",
       "  <tbody>\n",
       "    <tr>\n",
       "      <th>0</th>\n",
       "      <td>Arun Jaitley Stadium</td>\n",
       "      <td>14</td>\n",
       "    </tr>\n",
       "    <tr>\n",
       "      <th>1</th>\n",
       "      <td>Arun Jaitley Stadium, Delhi</td>\n",
       "      <td>4</td>\n",
       "    </tr>\n",
       "    <tr>\n",
       "      <th>2</th>\n",
       "      <td>Barabati Stadium</td>\n",
       "      <td>7</td>\n",
       "    </tr>\n",
       "    <tr>\n",
       "      <th>3</th>\n",
       "      <td>Brabourne Stadium</td>\n",
       "      <td>10</td>\n",
       "    </tr>\n",
       "    <tr>\n",
       "      <th>4</th>\n",
       "      <td>Brabourne Stadium, Mumbai</td>\n",
       "      <td>17</td>\n",
       "    </tr>\n",
       "    <tr>\n",
       "      <th>5</th>\n",
       "      <td>Buffalo Park</td>\n",
       "      <td>3</td>\n",
       "    </tr>\n",
       "    <tr>\n",
       "      <th>6</th>\n",
       "      <td>De Beers Diamond Oval</td>\n",
       "      <td>3</td>\n",
       "    </tr>\n",
       "    <tr>\n",
       "      <th>7</th>\n",
       "      <td>Dr DY Patil Sports Academy</td>\n",
       "      <td>17</td>\n",
       "    </tr>\n",
       "    <tr>\n",
       "      <th>8</th>\n",
       "      <td>Dr DY Patil Sports Academy, Mumbai</td>\n",
       "      <td>20</td>\n",
       "    </tr>\n",
       "    <tr>\n",
       "      <th>9</th>\n",
       "      <td>Dr. Y.S. Rajasekhara Reddy ACA-VDCA Cricket St...</td>\n",
       "      <td>13</td>\n",
       "    </tr>\n",
       "    <tr>\n",
       "      <th>10</th>\n",
       "      <td>Dubai International Cricket Stadium</td>\n",
       "      <td>46</td>\n",
       "    </tr>\n",
       "    <tr>\n",
       "      <th>11</th>\n",
       "      <td>Eden Gardens</td>\n",
       "      <td>77</td>\n",
       "    </tr>\n",
       "    <tr>\n",
       "      <th>12</th>\n",
       "      <td>Eden Gardens, Kolkata</td>\n",
       "      <td>2</td>\n",
       "    </tr>\n",
       "    <tr>\n",
       "      <th>13</th>\n",
       "      <td>Feroz Shah Kotla</td>\n",
       "      <td>60</td>\n",
       "    </tr>\n",
       "    <tr>\n",
       "      <th>14</th>\n",
       "      <td>Green Park</td>\n",
       "      <td>4</td>\n",
       "    </tr>\n",
       "    <tr>\n",
       "      <th>15</th>\n",
       "      <td>Himachal Pradesh Cricket Association Stadium</td>\n",
       "      <td>9</td>\n",
       "    </tr>\n",
       "    <tr>\n",
       "      <th>16</th>\n",
       "      <td>Holkar Cricket Stadium</td>\n",
       "      <td>9</td>\n",
       "    </tr>\n",
       "    <tr>\n",
       "      <th>17</th>\n",
       "      <td>JSCA International Stadium Complex</td>\n",
       "      <td>7</td>\n",
       "    </tr>\n",
       "    <tr>\n",
       "      <th>18</th>\n",
       "      <td>Kingsmead</td>\n",
       "      <td>15</td>\n",
       "    </tr>\n",
       "    <tr>\n",
       "      <th>19</th>\n",
       "      <td>M Chinnaswamy Stadium</td>\n",
       "      <td>65</td>\n",
       "    </tr>\n",
       "    <tr>\n",
       "      <th>20</th>\n",
       "      <td>M.Chinnaswamy Stadium</td>\n",
       "      <td>15</td>\n",
       "    </tr>\n",
       "    <tr>\n",
       "      <th>21</th>\n",
       "      <td>MA Chidambaram Stadium</td>\n",
       "      <td>9</td>\n",
       "    </tr>\n",
       "    <tr>\n",
       "      <th>22</th>\n",
       "      <td>MA Chidambaram Stadium, Chepauk</td>\n",
       "      <td>48</td>\n",
       "    </tr>\n",
       "    <tr>\n",
       "      <th>23</th>\n",
       "      <td>MA Chidambaram Stadium, Chepauk, Chennai</td>\n",
       "      <td>10</td>\n",
       "    </tr>\n",
       "    <tr>\n",
       "      <th>24</th>\n",
       "      <td>Maharashtra Cricket Association Stadium</td>\n",
       "      <td>22</td>\n",
       "    </tr>\n",
       "    <tr>\n",
       "      <th>25</th>\n",
       "      <td>Maharashtra Cricket Association Stadium, Pune</td>\n",
       "      <td>13</td>\n",
       "    </tr>\n",
       "    <tr>\n",
       "      <th>26</th>\n",
       "      <td>Narendra Modi Stadium, Ahmedabad</td>\n",
       "      <td>7</td>\n",
       "    </tr>\n",
       "    <tr>\n",
       "      <th>27</th>\n",
       "      <td>Nehru Stadium</td>\n",
       "      <td>5</td>\n",
       "    </tr>\n",
       "    <tr>\n",
       "      <th>28</th>\n",
       "      <td>New Wanderers Stadium</td>\n",
       "      <td>8</td>\n",
       "    </tr>\n",
       "    <tr>\n",
       "      <th>29</th>\n",
       "      <td>Newlands</td>\n",
       "      <td>7</td>\n",
       "    </tr>\n",
       "    <tr>\n",
       "      <th>30</th>\n",
       "      <td>OUTsurance Oval</td>\n",
       "      <td>2</td>\n",
       "    </tr>\n",
       "    <tr>\n",
       "      <th>31</th>\n",
       "      <td>Punjab Cricket Association IS Bindra Stadium</td>\n",
       "      <td>10</td>\n",
       "    </tr>\n",
       "    <tr>\n",
       "      <th>32</th>\n",
       "      <td>Punjab Cricket Association IS Bindra Stadium, ...</td>\n",
       "      <td>11</td>\n",
       "    </tr>\n",
       "    <tr>\n",
       "      <th>33</th>\n",
       "      <td>Punjab Cricket Association Stadium, Mohali</td>\n",
       "      <td>35</td>\n",
       "    </tr>\n",
       "    <tr>\n",
       "      <th>34</th>\n",
       "      <td>Rajiv Gandhi International Stadium</td>\n",
       "      <td>15</td>\n",
       "    </tr>\n",
       "    <tr>\n",
       "      <th>35</th>\n",
       "      <td>Rajiv Gandhi International Stadium, Uppal</td>\n",
       "      <td>49</td>\n",
       "    </tr>\n",
       "    <tr>\n",
       "      <th>36</th>\n",
       "      <td>Sardar Patel Stadium, Motera</td>\n",
       "      <td>12</td>\n",
       "    </tr>\n",
       "    <tr>\n",
       "      <th>37</th>\n",
       "      <td>Saurashtra Cricket Association Stadium</td>\n",
       "      <td>10</td>\n",
       "    </tr>\n",
       "    <tr>\n",
       "      <th>38</th>\n",
       "      <td>Sawai Mansingh Stadium</td>\n",
       "      <td>47</td>\n",
       "    </tr>\n",
       "    <tr>\n",
       "      <th>39</th>\n",
       "      <td>Shaheed Veer Narayan Singh International Stadium</td>\n",
       "      <td>6</td>\n",
       "    </tr>\n",
       "    <tr>\n",
       "      <th>40</th>\n",
       "      <td>Sharjah Cricket Stadium</td>\n",
       "      <td>28</td>\n",
       "    </tr>\n",
       "    <tr>\n",
       "      <th>41</th>\n",
       "      <td>Sheikh Zayed Stadium</td>\n",
       "      <td>29</td>\n",
       "    </tr>\n",
       "    <tr>\n",
       "      <th>42</th>\n",
       "      <td>St George's Park</td>\n",
       "      <td>7</td>\n",
       "    </tr>\n",
       "    <tr>\n",
       "      <th>43</th>\n",
       "      <td>Subrata Roy Sahara Stadium</td>\n",
       "      <td>16</td>\n",
       "    </tr>\n",
       "    <tr>\n",
       "      <th>44</th>\n",
       "      <td>SuperSport Park</td>\n",
       "      <td>12</td>\n",
       "    </tr>\n",
       "    <tr>\n",
       "      <th>45</th>\n",
       "      <td>Vidarbha Cricket Association Stadium, Jamtha</td>\n",
       "      <td>3</td>\n",
       "    </tr>\n",
       "    <tr>\n",
       "      <th>46</th>\n",
       "      <td>Wankhede Stadium</td>\n",
       "      <td>73</td>\n",
       "    </tr>\n",
       "    <tr>\n",
       "      <th>47</th>\n",
       "      <td>Wankhede Stadium, Mumbai</td>\n",
       "      <td>31</td>\n",
       "    </tr>\n",
       "    <tr>\n",
       "      <th>48</th>\n",
       "      <td>Zayed Cricket Stadium, Abu Dhabi</td>\n",
       "      <td>8</td>\n",
       "    </tr>\n",
       "  </tbody>\n",
       "</table>\n",
       "</div>"
      ],
      "text/plain": [
       "                                                venue  matches\n",
       "0                                Arun Jaitley Stadium       14\n",
       "1                         Arun Jaitley Stadium, Delhi        4\n",
       "2                                    Barabati Stadium        7\n",
       "3                                   Brabourne Stadium       10\n",
       "4                           Brabourne Stadium, Mumbai       17\n",
       "5                                        Buffalo Park        3\n",
       "6                               De Beers Diamond Oval        3\n",
       "7                          Dr DY Patil Sports Academy       17\n",
       "8                  Dr DY Patil Sports Academy, Mumbai       20\n",
       "9   Dr. Y.S. Rajasekhara Reddy ACA-VDCA Cricket St...       13\n",
       "10                Dubai International Cricket Stadium       46\n",
       "11                                       Eden Gardens       77\n",
       "12                              Eden Gardens, Kolkata        2\n",
       "13                                   Feroz Shah Kotla       60\n",
       "14                                         Green Park        4\n",
       "15       Himachal Pradesh Cricket Association Stadium        9\n",
       "16                             Holkar Cricket Stadium        9\n",
       "17                 JSCA International Stadium Complex        7\n",
       "18                                          Kingsmead       15\n",
       "19                              M Chinnaswamy Stadium       65\n",
       "20                              M.Chinnaswamy Stadium       15\n",
       "21                             MA Chidambaram Stadium        9\n",
       "22                    MA Chidambaram Stadium, Chepauk       48\n",
       "23           MA Chidambaram Stadium, Chepauk, Chennai       10\n",
       "24            Maharashtra Cricket Association Stadium       22\n",
       "25      Maharashtra Cricket Association Stadium, Pune       13\n",
       "26                   Narendra Modi Stadium, Ahmedabad        7\n",
       "27                                      Nehru Stadium        5\n",
       "28                              New Wanderers Stadium        8\n",
       "29                                           Newlands        7\n",
       "30                                    OUTsurance Oval        2\n",
       "31       Punjab Cricket Association IS Bindra Stadium       10\n",
       "32  Punjab Cricket Association IS Bindra Stadium, ...       11\n",
       "33         Punjab Cricket Association Stadium, Mohali       35\n",
       "34                 Rajiv Gandhi International Stadium       15\n",
       "35          Rajiv Gandhi International Stadium, Uppal       49\n",
       "36                       Sardar Patel Stadium, Motera       12\n",
       "37             Saurashtra Cricket Association Stadium       10\n",
       "38                             Sawai Mansingh Stadium       47\n",
       "39   Shaheed Veer Narayan Singh International Stadium        6\n",
       "40                            Sharjah Cricket Stadium       28\n",
       "41                               Sheikh Zayed Stadium       29\n",
       "42                                   St George's Park        7\n",
       "43                         Subrata Roy Sahara Stadium       16\n",
       "44                                    SuperSport Park       12\n",
       "45       Vidarbha Cricket Association Stadium, Jamtha        3\n",
       "46                                   Wankhede Stadium       73\n",
       "47                           Wankhede Stadium, Mumbai       31\n",
       "48                   Zayed Cricket Stadium, Abu Dhabi        8"
      ]
     },
     "execution_count": 162,
     "metadata": {},
     "output_type": "execute_result"
    }
   ],
   "source": [
    "grouped_data = ipl_data_2.groupby([\"venue\", \"match_id\"]).size().reset_index(name='count')\n",
    "match_per_venue = grouped_data.groupby(['venue'])['count'].count().reset_index().rename(columns={'count' : 'matches'})\n",
    "match_per_venue"
   ]
  },
  {
   "cell_type": "code",
   "execution_count": 165,
   "id": "3ffa10f7",
   "metadata": {},
   "outputs": [
    {
     "data": {
      "text/plain": [
       "array(['Sunrisers Hyderabad', 'Royal Challengers Bangalore',\n",
       "       'Mumbai Indians', 'Rising Pune Supergiant', 'Gujarat Lions',\n",
       "       'Kolkata Knight Riders', 'Kings XI Punjab', 'Delhi Daredevils',\n",
       "       'Chennai Super Kings', 'Rajasthan Royals', 'Delhi Capitals',\n",
       "       'Punjab Kings', 'Lucknow Super Giants', 'Gujarat Titans',\n",
       "       'Deccan Chargers', 'Kochi Tuskers Kerala', 'Pune Warriors',\n",
       "       'Rising Pune Supergiants'], dtype=object)"
      ]
     },
     "execution_count": 165,
     "metadata": {},
     "output_type": "execute_result"
    }
   ],
   "source": [
    "ipl_data_1.batting_team.unique()"
   ]
  },
  {
   "cell_type": "code",
   "execution_count": 166,
   "id": "c7f2941c",
   "metadata": {},
   "outputs": [
    {
     "name": "stderr",
     "output_type": "stream",
     "text": [
      "C:\\Users\\donda\\AppData\\Local\\Temp\\ipykernel_6500\\1605478575.py:1: SettingWithCopyWarning:\n",
      "\n",
      "\n",
      "A value is trying to be set on a copy of a slice from a DataFrame\n",
      "\n",
      "See the caveats in the documentation: https://pandas.pydata.org/pandas-docs/stable/user_guide/indexing.html#returning-a-view-versus-a-copy\n",
      "\n"
     ]
    }
   ],
   "source": [
    "ipl_data_1.replace({\"Delhi Daredevils\": \"Delhi Capitals\", \"Kings XI Punjab\": \"Punjab Kings\",'Rising Pune Supergiant':'Rising Pune Supergiants'}, inplace=True)"
   ]
  },
  {
   "cell_type": "code",
   "execution_count": 167,
   "id": "2a38ae56",
   "metadata": {},
   "outputs": [
    {
     "data": {
      "text/plain": [
       "array(['Sunrisers Hyderabad', 'Royal Challengers Bangalore',\n",
       "       'Mumbai Indians', 'Rising Pune Supergiants', 'Gujarat Lions',\n",
       "       'Kolkata Knight Riders', 'Punjab Kings', 'Delhi Capitals',\n",
       "       'Chennai Super Kings', 'Rajasthan Royals', 'Lucknow Super Giants',\n",
       "       'Gujarat Titans', 'Deccan Chargers', 'Kochi Tuskers Kerala',\n",
       "       'Pune Warriors'], dtype=object)"
      ]
     },
     "execution_count": 167,
     "metadata": {},
     "output_type": "execute_result"
    }
   ],
   "source": [
    "ipl_data_1.batting_team.unique()"
   ]
  },
  {
   "cell_type": "code",
   "execution_count": 168,
   "id": "d3599b89",
   "metadata": {},
   "outputs": [
    {
     "name": "stdout",
     "output_type": "stream",
     "text": [
      "<class 'pandas.core.frame.DataFrame'>\n",
      "Int64Index: 225793 entries, 0 to 225953\n",
      "Data columns (total 21 columns):\n",
      " #   Column            Non-Null Count   Dtype  \n",
      "---  ------            --------------   -----  \n",
      " 0   match_id          225793 non-null  int64  \n",
      " 1   innings           225793 non-null  object \n",
      " 2   info_Dates        225793 non-null  object \n",
      " 3   batting_team      225793 non-null  object \n",
      " 4   ball              225793 non-null  float64\n",
      " 5   batsman           225793 non-null  object \n",
      " 6   non_striker       225793 non-null  object \n",
      " 7   bowler            225793 non-null  object \n",
      " 8   total_runs        225793 non-null  int64  \n",
      " 9   bat_runs          225793 non-null  int64  \n",
      " 10  extra_runs        225793 non-null  int64  \n",
      " 11  extra_run_type    12030 non-null   object \n",
      " 12  player_dismissed  11124 non-null   object \n",
      " 13  wicket_type       11124 non-null   object \n",
      " 14  fielder           7976 non-null    object \n",
      " 15  city              213438 non-null  object \n",
      " 16  venue             225793 non-null  object \n",
      " 17  bowling_team      225793 non-null  object \n",
      " 18  is_wicket         225793 non-null  int32  \n",
      " 19  over              225793 non-null  int64  \n",
      " 20  year              225793 non-null  int64  \n",
      "dtypes: float64(1), int32(1), int64(6), object(13)\n",
      "memory usage: 37.0+ MB\n"
     ]
    }
   ],
   "source": [
    "ipl_data_1.info()"
   ]
  },
  {
   "cell_type": "code",
   "execution_count": null,
   "id": "921cac03",
   "metadata": {},
   "outputs": [],
   "source": []
  }
 ],
 "metadata": {
  "kernelspec": {
   "display_name": "Python 3 (ipykernel)",
   "language": "python",
   "name": "python3"
  },
  "language_info": {
   "codemirror_mode": {
    "name": "ipython",
    "version": 3
   },
   "file_extension": ".py",
   "mimetype": "text/x-python",
   "name": "python",
   "nbconvert_exporter": "python",
   "pygments_lexer": "ipython3",
   "version": "3.9.12"
  }
 },
 "nbformat": 4,
 "nbformat_minor": 5
}
